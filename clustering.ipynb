{
 "cells": [
  {
   "cell_type": "markdown",
   "id": "a9d4178a",
   "metadata": {},
   "source": [
    "# **Feature Engineering**"
   ]
  },
  {
   "cell_type": "markdown",
   "id": "130f00d6",
   "metadata": {},
   "source": [
    "## Importing Libraries"
   ]
  },
  {
   "cell_type": "code",
   "execution_count": 2,
   "id": "b2d4f441",
   "metadata": {},
   "outputs": [],
   "source": [
    "# Basic Libraries for data manipulation\n",
    "import pandas as pd\n",
    "import numpy as np\n",
    "pd.set_option(\"display.max_columns\",None)\n",
    "\n",
    "# For Visualizations\n",
    "import matplotlib.pyplot as plt\n",
    "import seaborn as sns\n",
    "\n",
    "# To remove warnings\n",
    "import warnings\n",
    "warnings.filterwarnings(\"ignore\") "
   ]
  },
  {
   "cell_type": "markdown",
   "id": "aacd8cc6",
   "metadata": {},
   "source": [
    "## Load Dataset"
   ]
  },
  {
   "cell_type": "code",
   "execution_count": 3,
   "id": "9b90268b",
   "metadata": {},
   "outputs": [
    {
     "data": {
      "text/html": [
       "<div>\n",
       "<style scoped>\n",
       "    .dataframe tbody tr th:only-of-type {\n",
       "        vertical-align: middle;\n",
       "    }\n",
       "\n",
       "    .dataframe tbody tr th {\n",
       "        vertical-align: top;\n",
       "    }\n",
       "\n",
       "    .dataframe thead th {\n",
       "        text-align: right;\n",
       "    }\n",
       "</style>\n",
       "<table border=\"1\" class=\"dataframe\">\n",
       "  <thead>\n",
       "    <tr style=\"text-align: right;\">\n",
       "      <th></th>\n",
       "      <th>Age</th>\n",
       "      <th>Gender</th>\n",
       "      <th>Country</th>\n",
       "      <th>self_employed</th>\n",
       "      <th>family_history</th>\n",
       "      <th>treatment</th>\n",
       "      <th>work_interfere</th>\n",
       "      <th>no_employees</th>\n",
       "      <th>remote_work</th>\n",
       "      <th>tech_company</th>\n",
       "      <th>benefits</th>\n",
       "      <th>care_options</th>\n",
       "      <th>wellness_program</th>\n",
       "      <th>seek_help</th>\n",
       "      <th>anonymity</th>\n",
       "      <th>leave</th>\n",
       "      <th>mental_health_consequence</th>\n",
       "      <th>phys_health_consequence</th>\n",
       "      <th>coworkers</th>\n",
       "      <th>supervisor</th>\n",
       "      <th>mental_health_interview</th>\n",
       "      <th>phys_health_interview</th>\n",
       "      <th>mental_vs_physical</th>\n",
       "      <th>obs_consequence</th>\n",
       "    </tr>\n",
       "  </thead>\n",
       "  <tbody>\n",
       "    <tr>\n",
       "      <th>0</th>\n",
       "      <td>37</td>\n",
       "      <td>Female</td>\n",
       "      <td>United States</td>\n",
       "      <td>No</td>\n",
       "      <td>No</td>\n",
       "      <td>Yes</td>\n",
       "      <td>Often</td>\n",
       "      <td>25</td>\n",
       "      <td>No</td>\n",
       "      <td>Yes</td>\n",
       "      <td>Yes</td>\n",
       "      <td>Not sure</td>\n",
       "      <td>No</td>\n",
       "      <td>Yes</td>\n",
       "      <td>Yes</td>\n",
       "      <td>Somewhat easy</td>\n",
       "      <td>No</td>\n",
       "      <td>No</td>\n",
       "      <td>Some of them</td>\n",
       "      <td>Yes</td>\n",
       "      <td>No</td>\n",
       "      <td>Maybe</td>\n",
       "      <td>Yes</td>\n",
       "      <td>No</td>\n",
       "    </tr>\n",
       "    <tr>\n",
       "      <th>1</th>\n",
       "      <td>44</td>\n",
       "      <td>Male</td>\n",
       "      <td>United States</td>\n",
       "      <td>No</td>\n",
       "      <td>No</td>\n",
       "      <td>No</td>\n",
       "      <td>Rarely</td>\n",
       "      <td>1000</td>\n",
       "      <td>No</td>\n",
       "      <td>No</td>\n",
       "      <td>Don't know</td>\n",
       "      <td>No</td>\n",
       "      <td>Don't know</td>\n",
       "      <td>Don't know</td>\n",
       "      <td>Don't know</td>\n",
       "      <td>Don't know</td>\n",
       "      <td>Maybe</td>\n",
       "      <td>No</td>\n",
       "      <td>No</td>\n",
       "      <td>No</td>\n",
       "      <td>No</td>\n",
       "      <td>No</td>\n",
       "      <td>Don't know</td>\n",
       "      <td>No</td>\n",
       "    </tr>\n",
       "    <tr>\n",
       "      <th>2</th>\n",
       "      <td>32</td>\n",
       "      <td>Male</td>\n",
       "      <td>Canada</td>\n",
       "      <td>No</td>\n",
       "      <td>No</td>\n",
       "      <td>No</td>\n",
       "      <td>Rarely</td>\n",
       "      <td>25</td>\n",
       "      <td>No</td>\n",
       "      <td>Yes</td>\n",
       "      <td>No</td>\n",
       "      <td>No</td>\n",
       "      <td>No</td>\n",
       "      <td>No</td>\n",
       "      <td>Don't know</td>\n",
       "      <td>Somewhat difficult</td>\n",
       "      <td>No</td>\n",
       "      <td>No</td>\n",
       "      <td>Yes</td>\n",
       "      <td>Yes</td>\n",
       "      <td>Yes</td>\n",
       "      <td>Yes</td>\n",
       "      <td>No</td>\n",
       "      <td>No</td>\n",
       "    </tr>\n",
       "    <tr>\n",
       "      <th>3</th>\n",
       "      <td>31</td>\n",
       "      <td>Male</td>\n",
       "      <td>United Kingdom</td>\n",
       "      <td>No</td>\n",
       "      <td>Yes</td>\n",
       "      <td>Yes</td>\n",
       "      <td>Often</td>\n",
       "      <td>100</td>\n",
       "      <td>No</td>\n",
       "      <td>Yes</td>\n",
       "      <td>No</td>\n",
       "      <td>Yes</td>\n",
       "      <td>No</td>\n",
       "      <td>No</td>\n",
       "      <td>No</td>\n",
       "      <td>Somewhat difficult</td>\n",
       "      <td>Yes</td>\n",
       "      <td>Yes</td>\n",
       "      <td>Some of them</td>\n",
       "      <td>No</td>\n",
       "      <td>Maybe</td>\n",
       "      <td>Maybe</td>\n",
       "      <td>No</td>\n",
       "      <td>Yes</td>\n",
       "    </tr>\n",
       "    <tr>\n",
       "      <th>4</th>\n",
       "      <td>31</td>\n",
       "      <td>Male</td>\n",
       "      <td>United States</td>\n",
       "      <td>No</td>\n",
       "      <td>No</td>\n",
       "      <td>No</td>\n",
       "      <td>Never</td>\n",
       "      <td>500</td>\n",
       "      <td>Yes</td>\n",
       "      <td>Yes</td>\n",
       "      <td>Yes</td>\n",
       "      <td>No</td>\n",
       "      <td>Don't know</td>\n",
       "      <td>Don't know</td>\n",
       "      <td>Don't know</td>\n",
       "      <td>Don't know</td>\n",
       "      <td>No</td>\n",
       "      <td>No</td>\n",
       "      <td>Some of them</td>\n",
       "      <td>Yes</td>\n",
       "      <td>Yes</td>\n",
       "      <td>Yes</td>\n",
       "      <td>Don't know</td>\n",
       "      <td>No</td>\n",
       "    </tr>\n",
       "  </tbody>\n",
       "</table>\n",
       "</div>"
      ],
      "text/plain": [
       "   Age  Gender         Country self_employed family_history treatment  \\\n",
       "0   37  Female   United States            No             No       Yes   \n",
       "1   44    Male   United States            No             No        No   \n",
       "2   32    Male          Canada            No             No        No   \n",
       "3   31    Male  United Kingdom            No            Yes       Yes   \n",
       "4   31    Male   United States            No             No        No   \n",
       "\n",
       "  work_interfere  no_employees remote_work tech_company    benefits  \\\n",
       "0          Often            25          No          Yes         Yes   \n",
       "1         Rarely          1000          No           No  Don't know   \n",
       "2         Rarely            25          No          Yes          No   \n",
       "3          Often           100          No          Yes          No   \n",
       "4          Never           500         Yes          Yes         Yes   \n",
       "\n",
       "  care_options wellness_program   seek_help   anonymity               leave  \\\n",
       "0     Not sure               No         Yes         Yes       Somewhat easy   \n",
       "1           No       Don't know  Don't know  Don't know          Don't know   \n",
       "2           No               No          No  Don't know  Somewhat difficult   \n",
       "3          Yes               No          No          No  Somewhat difficult   \n",
       "4           No       Don't know  Don't know  Don't know          Don't know   \n",
       "\n",
       "  mental_health_consequence phys_health_consequence     coworkers supervisor  \\\n",
       "0                        No                      No  Some of them        Yes   \n",
       "1                     Maybe                      No            No         No   \n",
       "2                        No                      No           Yes        Yes   \n",
       "3                       Yes                     Yes  Some of them         No   \n",
       "4                        No                      No  Some of them        Yes   \n",
       "\n",
       "  mental_health_interview phys_health_interview mental_vs_physical  \\\n",
       "0                      No                 Maybe                Yes   \n",
       "1                      No                    No         Don't know   \n",
       "2                     Yes                   Yes                 No   \n",
       "3                   Maybe                 Maybe                 No   \n",
       "4                     Yes                   Yes         Don't know   \n",
       "\n",
       "  obs_consequence  \n",
       "0              No  \n",
       "1              No  \n",
       "2              No  \n",
       "3             Yes  \n",
       "4              No  "
      ]
     },
     "execution_count": 3,
     "metadata": {},
     "output_type": "execute_result"
    }
   ],
   "source": [
    "df= pd.read_csv(\"cleaned_survey.csv\")\n",
    "df.head()"
   ]
  },
  {
   "cell_type": "markdown",
   "id": "d98f4803",
   "metadata": {},
   "source": [
    "# Feature Creation:\n",
    "* Mental support\n",
    "* Openness to discuss mental health issues\n",
    "* Faced mental health issues before"
   ]
  },
  {
   "cell_type": "code",
   "execution_count": 4,
   "id": "f739144e",
   "metadata": {},
   "outputs": [],
   "source": [
    "# For creating Mental_support feature column; benefits, care_options, wellness_program, seek_help, anonymity, leave, mental_vs_physical colmuns will be used\n",
    "def mental_support(row):\n",
    "    '''\n",
    "    This function is to score the mental support given by company to the applicant\n",
    "    '''\n",
    "    score=0\n",
    "    # benefits\n",
    "    if row[\"benefits\"]=='Yes':\n",
    "        score+=1\n",
    "    elif row[\"benefits\"]==\"Don't know\":\n",
    "        score+=0.5\n",
    "    \n",
    "    # care_options\n",
    "    if row['care_options']=='Yes':\n",
    "        score+=1\n",
    "    elif row['care_options']=='Not sure':\n",
    "        score=0.5\n",
    "    \n",
    "    # wellness_program\n",
    "    if row[\"wellness_program\"]=='Yes':\n",
    "        score+=1\n",
    "    elif row[\"wellness_program\"]==\"Don't know\":\n",
    "        score+=0.5\n",
    "\n",
    "    # seek_help\n",
    "    if row[\"seek_help\"]=='Yes':\n",
    "        score+=1\n",
    "    elif row[\"seek_help\"]==\"Don't know\":\n",
    "        score+=0.5\n",
    "    \n",
    "    # anonymity\n",
    "    if row[\"anonymity\"]=='Yes':\n",
    "        score+=1\n",
    "    elif row[\"anonymity\"]==\"Don't know\":\n",
    "        score+=0.5\n",
    "   \n",
    "    # leave\n",
    "    if row[\"leave\"]=='Very easy':\n",
    "        score+=2\n",
    "    elif row['leave']=='Somewhat easy':\n",
    "        score+=1.5\n",
    "    elif row['leave']==\"Don't know\":\n",
    "        score+=1\n",
    "    elif row['leave']=='Somewhat difficult':\n",
    "        score+=0.5\n",
    "    \n",
    "    # mental_vs_physical\n",
    "    if row[\"mental_vs_physical\"]=='Yes':\n",
    "        score+=1\n",
    "    elif row[\"mental_vs_physical\"]==\"Don't know\":\n",
    "        score+=0.5\n",
    "\n",
    "    return score"
   ]
  },
  {
   "cell_type": "code",
   "execution_count": 5,
   "id": "5a9a143b",
   "metadata": {},
   "outputs": [
    {
     "data": {
      "text/html": [
       "<div>\n",
       "<style scoped>\n",
       "    .dataframe tbody tr th:only-of-type {\n",
       "        vertical-align: middle;\n",
       "    }\n",
       "\n",
       "    .dataframe tbody tr th {\n",
       "        vertical-align: top;\n",
       "    }\n",
       "\n",
       "    .dataframe thead th {\n",
       "        text-align: right;\n",
       "    }\n",
       "</style>\n",
       "<table border=\"1\" class=\"dataframe\">\n",
       "  <thead>\n",
       "    <tr style=\"text-align: right;\">\n",
       "      <th></th>\n",
       "      <th>Age</th>\n",
       "      <th>Gender</th>\n",
       "      <th>Country</th>\n",
       "      <th>self_employed</th>\n",
       "      <th>family_history</th>\n",
       "      <th>treatment</th>\n",
       "      <th>work_interfere</th>\n",
       "      <th>no_employees</th>\n",
       "      <th>remote_work</th>\n",
       "      <th>tech_company</th>\n",
       "      <th>mental_health_consequence</th>\n",
       "      <th>phys_health_consequence</th>\n",
       "      <th>coworkers</th>\n",
       "      <th>supervisor</th>\n",
       "      <th>mental_health_interview</th>\n",
       "      <th>phys_health_interview</th>\n",
       "      <th>obs_consequence</th>\n",
       "      <th>mental_support</th>\n",
       "    </tr>\n",
       "  </thead>\n",
       "  <tbody>\n",
       "    <tr>\n",
       "      <th>0</th>\n",
       "      <td>37</td>\n",
       "      <td>Female</td>\n",
       "      <td>United States</td>\n",
       "      <td>No</td>\n",
       "      <td>No</td>\n",
       "      <td>Yes</td>\n",
       "      <td>Often</td>\n",
       "      <td>25</td>\n",
       "      <td>No</td>\n",
       "      <td>Yes</td>\n",
       "      <td>No</td>\n",
       "      <td>No</td>\n",
       "      <td>Some of them</td>\n",
       "      <td>Yes</td>\n",
       "      <td>No</td>\n",
       "      <td>Maybe</td>\n",
       "      <td>No</td>\n",
       "      <td>5.0</td>\n",
       "    </tr>\n",
       "    <tr>\n",
       "      <th>1</th>\n",
       "      <td>44</td>\n",
       "      <td>Male</td>\n",
       "      <td>United States</td>\n",
       "      <td>No</td>\n",
       "      <td>No</td>\n",
       "      <td>No</td>\n",
       "      <td>Rarely</td>\n",
       "      <td>1000</td>\n",
       "      <td>No</td>\n",
       "      <td>No</td>\n",
       "      <td>Maybe</td>\n",
       "      <td>No</td>\n",
       "      <td>No</td>\n",
       "      <td>No</td>\n",
       "      <td>No</td>\n",
       "      <td>No</td>\n",
       "      <td>No</td>\n",
       "      <td>3.5</td>\n",
       "    </tr>\n",
       "    <tr>\n",
       "      <th>2</th>\n",
       "      <td>32</td>\n",
       "      <td>Male</td>\n",
       "      <td>Canada</td>\n",
       "      <td>No</td>\n",
       "      <td>No</td>\n",
       "      <td>No</td>\n",
       "      <td>Rarely</td>\n",
       "      <td>25</td>\n",
       "      <td>No</td>\n",
       "      <td>Yes</td>\n",
       "      <td>No</td>\n",
       "      <td>No</td>\n",
       "      <td>Yes</td>\n",
       "      <td>Yes</td>\n",
       "      <td>Yes</td>\n",
       "      <td>Yes</td>\n",
       "      <td>No</td>\n",
       "      <td>1.0</td>\n",
       "    </tr>\n",
       "    <tr>\n",
       "      <th>3</th>\n",
       "      <td>31</td>\n",
       "      <td>Male</td>\n",
       "      <td>United Kingdom</td>\n",
       "      <td>No</td>\n",
       "      <td>Yes</td>\n",
       "      <td>Yes</td>\n",
       "      <td>Often</td>\n",
       "      <td>100</td>\n",
       "      <td>No</td>\n",
       "      <td>Yes</td>\n",
       "      <td>Yes</td>\n",
       "      <td>Yes</td>\n",
       "      <td>Some of them</td>\n",
       "      <td>No</td>\n",
       "      <td>Maybe</td>\n",
       "      <td>Maybe</td>\n",
       "      <td>Yes</td>\n",
       "      <td>1.5</td>\n",
       "    </tr>\n",
       "    <tr>\n",
       "      <th>4</th>\n",
       "      <td>31</td>\n",
       "      <td>Male</td>\n",
       "      <td>United States</td>\n",
       "      <td>No</td>\n",
       "      <td>No</td>\n",
       "      <td>No</td>\n",
       "      <td>Never</td>\n",
       "      <td>500</td>\n",
       "      <td>Yes</td>\n",
       "      <td>Yes</td>\n",
       "      <td>No</td>\n",
       "      <td>No</td>\n",
       "      <td>Some of them</td>\n",
       "      <td>Yes</td>\n",
       "      <td>Yes</td>\n",
       "      <td>Yes</td>\n",
       "      <td>No</td>\n",
       "      <td>4.0</td>\n",
       "    </tr>\n",
       "  </tbody>\n",
       "</table>\n",
       "</div>"
      ],
      "text/plain": [
       "   Age  Gender         Country self_employed family_history treatment  \\\n",
       "0   37  Female   United States            No             No       Yes   \n",
       "1   44    Male   United States            No             No        No   \n",
       "2   32    Male          Canada            No             No        No   \n",
       "3   31    Male  United Kingdom            No            Yes       Yes   \n",
       "4   31    Male   United States            No             No        No   \n",
       "\n",
       "  work_interfere  no_employees remote_work tech_company  \\\n",
       "0          Often            25          No          Yes   \n",
       "1         Rarely          1000          No           No   \n",
       "2         Rarely            25          No          Yes   \n",
       "3          Often           100          No          Yes   \n",
       "4          Never           500         Yes          Yes   \n",
       "\n",
       "  mental_health_consequence phys_health_consequence     coworkers supervisor  \\\n",
       "0                        No                      No  Some of them        Yes   \n",
       "1                     Maybe                      No            No         No   \n",
       "2                        No                      No           Yes        Yes   \n",
       "3                       Yes                     Yes  Some of them         No   \n",
       "4                        No                      No  Some of them        Yes   \n",
       "\n",
       "  mental_health_interview phys_health_interview obs_consequence  \\\n",
       "0                      No                 Maybe              No   \n",
       "1                      No                    No              No   \n",
       "2                     Yes                   Yes              No   \n",
       "3                   Maybe                 Maybe             Yes   \n",
       "4                     Yes                   Yes              No   \n",
       "\n",
       "   mental_support  \n",
       "0             5.0  \n",
       "1             3.5  \n",
       "2             1.0  \n",
       "3             1.5  \n",
       "4             4.0  "
      ]
     },
     "execution_count": 5,
     "metadata": {},
     "output_type": "execute_result"
    }
   ],
   "source": [
    "df[\"mental_support\"]=df.apply(mental_support,axis=1)\n",
    "df.drop(['benefits', 'care_options', 'wellness_program', 'seek_help', 'anonymity', 'leave','mental_vs_physical'],axis=1,inplace=True)\n",
    "df.head()"
   ]
  },
  {
   "cell_type": "code",
   "execution_count": 6,
   "id": "8b5728b1",
   "metadata": {},
   "outputs": [],
   "source": [
    "# For creating openness feature I will use; coworkers, supervisor, mental_health_interview\n",
    "\n",
    "def openness(row):\n",
    "    '''\n",
    "    This function is score the openness og employees to discuus their mental problems \n",
    "    '''\n",
    "    score=0\n",
    "    # coworkers\n",
    "    if row['coworkers']=='Yes':\n",
    "        score+=1\n",
    "    elif row['coworkers']=='Some of them':\n",
    "        score+=0.5\n",
    "    \n",
    "    # supervisor\n",
    "    if row['supervisor']=='Yes':\n",
    "        score+=1\n",
    "    elif row['supervisor']=='Some of them':\n",
    "        score+=0.5\n",
    "\n",
    "    # mental_health_interview\n",
    "    if row['mental_health_interview']=='Yes':\n",
    "        score+=1\n",
    "    elif row['mental_health_interview']=='Maybe':\n",
    "        score+=0.5\n",
    "    \n",
    "    return score"
   ]
  },
  {
   "cell_type": "code",
   "execution_count": 7,
   "id": "b542db6a",
   "metadata": {},
   "outputs": [
    {
     "data": {
      "text/html": [
       "<div>\n",
       "<style scoped>\n",
       "    .dataframe tbody tr th:only-of-type {\n",
       "        vertical-align: middle;\n",
       "    }\n",
       "\n",
       "    .dataframe tbody tr th {\n",
       "        vertical-align: top;\n",
       "    }\n",
       "\n",
       "    .dataframe thead th {\n",
       "        text-align: right;\n",
       "    }\n",
       "</style>\n",
       "<table border=\"1\" class=\"dataframe\">\n",
       "  <thead>\n",
       "    <tr style=\"text-align: right;\">\n",
       "      <th></th>\n",
       "      <th>Age</th>\n",
       "      <th>Gender</th>\n",
       "      <th>Country</th>\n",
       "      <th>self_employed</th>\n",
       "      <th>family_history</th>\n",
       "      <th>treatment</th>\n",
       "      <th>work_interfere</th>\n",
       "      <th>no_employees</th>\n",
       "      <th>remote_work</th>\n",
       "      <th>tech_company</th>\n",
       "      <th>mental_health_consequence</th>\n",
       "      <th>phys_health_consequence</th>\n",
       "      <th>phys_health_interview</th>\n",
       "      <th>obs_consequence</th>\n",
       "      <th>mental_support</th>\n",
       "      <th>openness</th>\n",
       "    </tr>\n",
       "  </thead>\n",
       "  <tbody>\n",
       "    <tr>\n",
       "      <th>0</th>\n",
       "      <td>37</td>\n",
       "      <td>Female</td>\n",
       "      <td>United States</td>\n",
       "      <td>No</td>\n",
       "      <td>No</td>\n",
       "      <td>Yes</td>\n",
       "      <td>Often</td>\n",
       "      <td>25</td>\n",
       "      <td>No</td>\n",
       "      <td>Yes</td>\n",
       "      <td>No</td>\n",
       "      <td>No</td>\n",
       "      <td>Maybe</td>\n",
       "      <td>No</td>\n",
       "      <td>5.0</td>\n",
       "      <td>1.5</td>\n",
       "    </tr>\n",
       "    <tr>\n",
       "      <th>1</th>\n",
       "      <td>44</td>\n",
       "      <td>Male</td>\n",
       "      <td>United States</td>\n",
       "      <td>No</td>\n",
       "      <td>No</td>\n",
       "      <td>No</td>\n",
       "      <td>Rarely</td>\n",
       "      <td>1000</td>\n",
       "      <td>No</td>\n",
       "      <td>No</td>\n",
       "      <td>Maybe</td>\n",
       "      <td>No</td>\n",
       "      <td>No</td>\n",
       "      <td>No</td>\n",
       "      <td>3.5</td>\n",
       "      <td>0.0</td>\n",
       "    </tr>\n",
       "    <tr>\n",
       "      <th>2</th>\n",
       "      <td>32</td>\n",
       "      <td>Male</td>\n",
       "      <td>Canada</td>\n",
       "      <td>No</td>\n",
       "      <td>No</td>\n",
       "      <td>No</td>\n",
       "      <td>Rarely</td>\n",
       "      <td>25</td>\n",
       "      <td>No</td>\n",
       "      <td>Yes</td>\n",
       "      <td>No</td>\n",
       "      <td>No</td>\n",
       "      <td>Yes</td>\n",
       "      <td>No</td>\n",
       "      <td>1.0</td>\n",
       "      <td>3.0</td>\n",
       "    </tr>\n",
       "    <tr>\n",
       "      <th>3</th>\n",
       "      <td>31</td>\n",
       "      <td>Male</td>\n",
       "      <td>United Kingdom</td>\n",
       "      <td>No</td>\n",
       "      <td>Yes</td>\n",
       "      <td>Yes</td>\n",
       "      <td>Often</td>\n",
       "      <td>100</td>\n",
       "      <td>No</td>\n",
       "      <td>Yes</td>\n",
       "      <td>Yes</td>\n",
       "      <td>Yes</td>\n",
       "      <td>Maybe</td>\n",
       "      <td>Yes</td>\n",
       "      <td>1.5</td>\n",
       "      <td>1.0</td>\n",
       "    </tr>\n",
       "    <tr>\n",
       "      <th>4</th>\n",
       "      <td>31</td>\n",
       "      <td>Male</td>\n",
       "      <td>United States</td>\n",
       "      <td>No</td>\n",
       "      <td>No</td>\n",
       "      <td>No</td>\n",
       "      <td>Never</td>\n",
       "      <td>500</td>\n",
       "      <td>Yes</td>\n",
       "      <td>Yes</td>\n",
       "      <td>No</td>\n",
       "      <td>No</td>\n",
       "      <td>Yes</td>\n",
       "      <td>No</td>\n",
       "      <td>4.0</td>\n",
       "      <td>2.5</td>\n",
       "    </tr>\n",
       "  </tbody>\n",
       "</table>\n",
       "</div>"
      ],
      "text/plain": [
       "   Age  Gender         Country self_employed family_history treatment  \\\n",
       "0   37  Female   United States            No             No       Yes   \n",
       "1   44    Male   United States            No             No        No   \n",
       "2   32    Male          Canada            No             No        No   \n",
       "3   31    Male  United Kingdom            No            Yes       Yes   \n",
       "4   31    Male   United States            No             No        No   \n",
       "\n",
       "  work_interfere  no_employees remote_work tech_company  \\\n",
       "0          Often            25          No          Yes   \n",
       "1         Rarely          1000          No           No   \n",
       "2         Rarely            25          No          Yes   \n",
       "3          Often           100          No          Yes   \n",
       "4          Never           500         Yes          Yes   \n",
       "\n",
       "  mental_health_consequence phys_health_consequence phys_health_interview  \\\n",
       "0                        No                      No                 Maybe   \n",
       "1                     Maybe                      No                    No   \n",
       "2                        No                      No                   Yes   \n",
       "3                       Yes                     Yes                 Maybe   \n",
       "4                        No                      No                   Yes   \n",
       "\n",
       "  obs_consequence  mental_support  openness  \n",
       "0              No             5.0       1.5  \n",
       "1              No             3.5       0.0  \n",
       "2              No             1.0       3.0  \n",
       "3             Yes             1.5       1.0  \n",
       "4              No             4.0       2.5  "
      ]
     },
     "execution_count": 7,
     "metadata": {},
     "output_type": "execute_result"
    }
   ],
   "source": [
    "df[\"openness\"]=df.apply(openness,axis=1)\n",
    "df.drop(['coworkers','supervisor','mental_health_interview'],axis=1,inplace=True)\n",
    "df.head()"
   ]
  },
  {
   "cell_type": "code",
   "execution_count": 8,
   "id": "49d8ff7f",
   "metadata": {},
   "outputs": [],
   "source": [
    "# For creating experience feature I will use; family_history, work_interfere, mental_health_consequence, obs_consequences, treatment columns\n",
    "\n",
    "def experience(row):\n",
    "    '''\n",
    "    This is the function to score the past experience an employee has on the basis of mental heath consequences\n",
    "    '''\n",
    "    score=0\n",
    "\n",
    "    # family history\n",
    "    if row['family_history']=='Yes':\n",
    "        score+=1\n",
    "\n",
    "    # work_interfere\n",
    "    if row['work_interfere']=='Often':\n",
    "        score+=1.5\n",
    "    elif row['work_interfere']=='Rarely':\n",
    "        score+=1\n",
    "    elif row['work_interfere']=='Sometimes':\n",
    "        score+=0.5\n",
    "    \n",
    "    # mental_health_consequence\n",
    "    if row['mental_health_consequence']=='Yes':\n",
    "        score+=1\n",
    "    elif row['mental_health_consequence']=='Maybe':\n",
    "        score+=0.5\n",
    "\n",
    "    # obs_consequence\n",
    "    if row['obs_consequence']=='Yes':\n",
    "        score+=1\n",
    "\n",
    "    # treatment\n",
    "    if row['treatment']=='Yes':\n",
    "        score+=1\n",
    "    \n",
    "    return score"
   ]
  },
  {
   "cell_type": "code",
   "execution_count": 9,
   "id": "e3121e43",
   "metadata": {},
   "outputs": [
    {
     "data": {
      "text/html": [
       "<div>\n",
       "<style scoped>\n",
       "    .dataframe tbody tr th:only-of-type {\n",
       "        vertical-align: middle;\n",
       "    }\n",
       "\n",
       "    .dataframe tbody tr th {\n",
       "        vertical-align: top;\n",
       "    }\n",
       "\n",
       "    .dataframe thead th {\n",
       "        text-align: right;\n",
       "    }\n",
       "</style>\n",
       "<table border=\"1\" class=\"dataframe\">\n",
       "  <thead>\n",
       "    <tr style=\"text-align: right;\">\n",
       "      <th></th>\n",
       "      <th>Age</th>\n",
       "      <th>Gender</th>\n",
       "      <th>Country</th>\n",
       "      <th>self_employed</th>\n",
       "      <th>treatment</th>\n",
       "      <th>no_employees</th>\n",
       "      <th>remote_work</th>\n",
       "      <th>tech_company</th>\n",
       "      <th>phys_health_consequence</th>\n",
       "      <th>phys_health_interview</th>\n",
       "      <th>mental_support</th>\n",
       "      <th>openness</th>\n",
       "      <th>mental_exp</th>\n",
       "    </tr>\n",
       "  </thead>\n",
       "  <tbody>\n",
       "    <tr>\n",
       "      <th>0</th>\n",
       "      <td>37</td>\n",
       "      <td>Female</td>\n",
       "      <td>United States</td>\n",
       "      <td>No</td>\n",
       "      <td>Yes</td>\n",
       "      <td>25</td>\n",
       "      <td>No</td>\n",
       "      <td>Yes</td>\n",
       "      <td>No</td>\n",
       "      <td>Maybe</td>\n",
       "      <td>5.0</td>\n",
       "      <td>1.5</td>\n",
       "      <td>2.5</td>\n",
       "    </tr>\n",
       "    <tr>\n",
       "      <th>1</th>\n",
       "      <td>44</td>\n",
       "      <td>Male</td>\n",
       "      <td>United States</td>\n",
       "      <td>No</td>\n",
       "      <td>No</td>\n",
       "      <td>1000</td>\n",
       "      <td>No</td>\n",
       "      <td>No</td>\n",
       "      <td>No</td>\n",
       "      <td>No</td>\n",
       "      <td>3.5</td>\n",
       "      <td>0.0</td>\n",
       "      <td>1.5</td>\n",
       "    </tr>\n",
       "    <tr>\n",
       "      <th>2</th>\n",
       "      <td>32</td>\n",
       "      <td>Male</td>\n",
       "      <td>Canada</td>\n",
       "      <td>No</td>\n",
       "      <td>No</td>\n",
       "      <td>25</td>\n",
       "      <td>No</td>\n",
       "      <td>Yes</td>\n",
       "      <td>No</td>\n",
       "      <td>Yes</td>\n",
       "      <td>1.0</td>\n",
       "      <td>3.0</td>\n",
       "      <td>1.0</td>\n",
       "    </tr>\n",
       "    <tr>\n",
       "      <th>3</th>\n",
       "      <td>31</td>\n",
       "      <td>Male</td>\n",
       "      <td>United Kingdom</td>\n",
       "      <td>No</td>\n",
       "      <td>Yes</td>\n",
       "      <td>100</td>\n",
       "      <td>No</td>\n",
       "      <td>Yes</td>\n",
       "      <td>Yes</td>\n",
       "      <td>Maybe</td>\n",
       "      <td>1.5</td>\n",
       "      <td>1.0</td>\n",
       "      <td>5.5</td>\n",
       "    </tr>\n",
       "    <tr>\n",
       "      <th>4</th>\n",
       "      <td>31</td>\n",
       "      <td>Male</td>\n",
       "      <td>United States</td>\n",
       "      <td>No</td>\n",
       "      <td>No</td>\n",
       "      <td>500</td>\n",
       "      <td>Yes</td>\n",
       "      <td>Yes</td>\n",
       "      <td>No</td>\n",
       "      <td>Yes</td>\n",
       "      <td>4.0</td>\n",
       "      <td>2.5</td>\n",
       "      <td>0.0</td>\n",
       "    </tr>\n",
       "  </tbody>\n",
       "</table>\n",
       "</div>"
      ],
      "text/plain": [
       "   Age  Gender         Country self_employed treatment  no_employees  \\\n",
       "0   37  Female   United States            No       Yes            25   \n",
       "1   44    Male   United States            No        No          1000   \n",
       "2   32    Male          Canada            No        No            25   \n",
       "3   31    Male  United Kingdom            No       Yes           100   \n",
       "4   31    Male   United States            No        No           500   \n",
       "\n",
       "  remote_work tech_company phys_health_consequence phys_health_interview  \\\n",
       "0          No          Yes                      No                 Maybe   \n",
       "1          No           No                      No                    No   \n",
       "2          No          Yes                      No                   Yes   \n",
       "3          No          Yes                     Yes                 Maybe   \n",
       "4         Yes          Yes                      No                   Yes   \n",
       "\n",
       "   mental_support  openness  mental_exp  \n",
       "0             5.0       1.5         2.5  \n",
       "1             3.5       0.0         1.5  \n",
       "2             1.0       3.0         1.0  \n",
       "3             1.5       1.0         5.5  \n",
       "4             4.0       2.5         0.0  "
      ]
     },
     "execution_count": 9,
     "metadata": {},
     "output_type": "execute_result"
    }
   ],
   "source": [
    "df[\"mental_exp\"]=df.apply(experience,axis=1)\n",
    "df.drop(['family_history','work_interfere','mental_health_consequence','obs_consequence'],axis=1,inplace=True)\n",
    "df.head()"
   ]
  },
  {
   "cell_type": "markdown",
   "id": "fbe687dc",
   "metadata": {},
   "source": [
    "### Separating required columns for clustering analysis"
   ]
  },
  {
   "cell_type": "code",
   "execution_count": 10,
   "id": "460aae4d",
   "metadata": {},
   "outputs": [
    {
     "data": {
      "text/html": [
       "<div>\n",
       "<style scoped>\n",
       "    .dataframe tbody tr th:only-of-type {\n",
       "        vertical-align: middle;\n",
       "    }\n",
       "\n",
       "    .dataframe tbody tr th {\n",
       "        vertical-align: top;\n",
       "    }\n",
       "\n",
       "    .dataframe thead th {\n",
       "        text-align: right;\n",
       "    }\n",
       "</style>\n",
       "<table border=\"1\" class=\"dataframe\">\n",
       "  <thead>\n",
       "    <tr style=\"text-align: right;\">\n",
       "      <th></th>\n",
       "      <th>mental_support</th>\n",
       "      <th>openness</th>\n",
       "      <th>mental_exp</th>\n",
       "    </tr>\n",
       "  </thead>\n",
       "  <tbody>\n",
       "    <tr>\n",
       "      <th>0</th>\n",
       "      <td>5.0</td>\n",
       "      <td>1.5</td>\n",
       "      <td>2.5</td>\n",
       "    </tr>\n",
       "    <tr>\n",
       "      <th>1</th>\n",
       "      <td>3.5</td>\n",
       "      <td>0.0</td>\n",
       "      <td>1.5</td>\n",
       "    </tr>\n",
       "    <tr>\n",
       "      <th>2</th>\n",
       "      <td>1.0</td>\n",
       "      <td>3.0</td>\n",
       "      <td>1.0</td>\n",
       "    </tr>\n",
       "    <tr>\n",
       "      <th>3</th>\n",
       "      <td>1.5</td>\n",
       "      <td>1.0</td>\n",
       "      <td>5.5</td>\n",
       "    </tr>\n",
       "    <tr>\n",
       "      <th>4</th>\n",
       "      <td>4.0</td>\n",
       "      <td>2.5</td>\n",
       "      <td>0.0</td>\n",
       "    </tr>\n",
       "  </tbody>\n",
       "</table>\n",
       "</div>"
      ],
      "text/plain": [
       "   mental_support  openness  mental_exp\n",
       "0             5.0       1.5         2.5\n",
       "1             3.5       0.0         1.5\n",
       "2             1.0       3.0         1.0\n",
       "3             1.5       1.0         5.5\n",
       "4             4.0       2.5         0.0"
      ]
     },
     "execution_count": 10,
     "metadata": {},
     "output_type": "execute_result"
    }
   ],
   "source": [
    "X=df[['mental_support','openness','mental_exp']]\n",
    "X.head()"
   ]
  },
  {
   "cell_type": "markdown",
   "id": "be843eaa",
   "metadata": {},
   "source": [
    "## Preprocessing: Standard Scaler"
   ]
  },
  {
   "cell_type": "code",
   "execution_count": 11,
   "id": "4db1a848",
   "metadata": {},
   "outputs": [],
   "source": [
    "from sklearn.preprocessing import StandardScaler\n",
    "scaler=StandardScaler()\n",
    "X_scaled= scaler.fit_transform(X)"
   ]
  },
  {
   "cell_type": "markdown",
   "id": "e82e37e9",
   "metadata": {},
   "source": [
    "## Making clusters and analysing them"
   ]
  },
  {
   "cell_type": "code",
   "execution_count": 12,
   "id": "5e10dd1a",
   "metadata": {},
   "outputs": [],
   "source": [
    "# For dimensionality reduction for visualization\n",
    "from sklearn.manifold import TSNE\n",
    "tsne=TSNE(n_components=2,perplexity=45,random_state=42)\n",
    "\n",
    "X_reduced=tsne.fit_transform(X_scaled)"
   ]
  },
  {
   "cell_type": "code",
   "execution_count": 13,
   "id": "e8e399fd",
   "metadata": {},
   "outputs": [],
   "source": [
    "# Trying KMeans, Agglomerative Clustering and DBSCAN and analysing them to find best model for clustering\n",
    "from sklearn.cluster import KMeans,DBSCAN,AgglomerativeClustering\n",
    "from sklearn.metrics import silhouette_score"
   ]
  },
  {
   "cell_type": "code",
   "execution_count": 14,
   "id": "4445ee6f",
   "metadata": {},
   "outputs": [
    {
     "data": {
      "image/png": "[encoded data removed]",
      "text/plain": [
       "<Figure size 1800x700 with 3 Axes>"
      ]
     },
     "metadata": {},
     "output_type": "display_data"
    }
   ],
   "source": [
    "# Plotting silhouette scores to get best clusters\n",
    "\n",
    "# KMeans Clustering\n",
    "sil_score_kmean=[]\n",
    "for i in range(2,11):\n",
    "    model=KMeans(n_clusters=i,random_state=42)\n",
    "    label=model.fit_predict(X_scaled)\n",
    "    sil=silhouette_score(X_scaled,label)\n",
    "    sil_score_kmean.append(sil)\n",
    "\n",
    "# Agglomerative Clustering\n",
    "sil_score_agg=[]\n",
    "for i in range(2,11):\n",
    "    model=AgglomerativeClustering(n_clusters=i,linkage='ward')\n",
    "    label=model.fit_predict(X_scaled)\n",
    "    sil=silhouette_score(X_scaled,label)\n",
    "    sil_score_agg.append(sil)\n",
    "\n",
    "# DBSCAN Clustering\n",
    "sil_score_dbscan=[]\n",
    "range_=np.arange(0.1,1.6,0.1)\n",
    "for i in range_:\n",
    "    model=DBSCAN(eps=i,min_samples=5)\n",
    "    label=model.fit_predict(X_scaled)\n",
    "\n",
    "    # Skip silhouette scoring if only one label or noise\n",
    "    unique_label=set(label)\n",
    "    if len(unique_label - {-1}) >= 2:  # at least 2 clusters, ignoring noise\n",
    "        sil = silhouette_score(X_scaled, label)\n",
    "    else:\n",
    "        sil = -1  # Invalid case\n",
    "    sil_score_dbscan.append(sil)\n",
    "\n",
    "# Plotting the graphs \n",
    "plt.figure(figsize=(18,7))\n",
    "sns.set_theme(style=\"darkgrid\")\n",
    "plt.suptitle(\"Silhouette Scores vs Clusters\")\n",
    "plt.subplot(1,3,1)\n",
    "sns.lineplot(x=range(2,11),y=sil_score_kmean,markers='o',color='red')\n",
    "plt.xlabel('No. of clusters')\n",
    "plt.ylabel('Silhouette Scores')\n",
    "plt.title(\"KMeans\")\n",
    "plt.subplot(1,3,2)\n",
    "sns.lineplot(x=range(2,11),y=sil_score_agg,markers='o',color='green')\n",
    "plt.xlabel('No. of clusters')\n",
    "plt.ylabel('Silhouette Scores')\n",
    "plt.title(\"Agglomerative\")\n",
    "plt.subplot(1,3,3)\n",
    "sns.lineplot(x=range_,y=sil_score_dbscan,markers='o',color='orange')\n",
    "plt.xlabel('Epsilon Value')\n",
    "plt.ylabel('Silhouette Scores')\n",
    "plt.title(\"DBSCAN\")\n",
    "\n",
    "plt.show()"
   ]
  },
  {
   "cell_type": "markdown",
   "id": "40a67d07",
   "metadata": {},
   "source": [
    "## Insights:\n",
    "* K Means clustering scored highest silhouette score with 4 or 5 clusters.\n",
    "* Agglomerative clustering also worked way better then DBSCAN with 3 clusters.\n",
    "> **Result:** I will use K Means with 4 clusters for further analysis."
   ]
  },
  {
   "cell_type": "code",
   "execution_count": 15,
   "id": "d0d01753",
   "metadata": {},
   "outputs": [],
   "source": [
    "Kmeans_clustering=KMeans(n_clusters=4,random_state=42)\n",
    "# Creating clusters\n",
    "kmeans_labels=Kmeans_clustering.fit_predict(X_scaled)"
   ]
  },
  {
   "cell_type": "code",
   "execution_count": 16,
   "id": "928001cd",
   "metadata": {},
   "outputs": [
    {
     "data": {
      "image/png": "[encoded data removed]",
      "text/plain": [
       "<Figure size 640x480 with 1 Axes>"
      ]
     },
     "metadata": {},
     "output_type": "display_data"
    }
   ],
   "source": [
    "# 2d Visualisation of clusters\n",
    "sns.set_theme(style='darkgrid')\n",
    "sns.scatterplot(x=X_reduced[:,0],y=X_reduced[:,1],hue=kmeans_labels,palette='pastel')\n",
    "plt.title(\"2D Interpretation of K Mean Clusters\")\n",
    "plt.show()"
   ]
  },
  {
   "cell_type": "markdown",
   "id": "d4f711c7",
   "metadata": {},
   "source": [
    "#### Insights:\n",
    "* Both clustering algorithms clearly revealed the data and formed well separated clusters in 2D interpretation.\n",
    "* Kmeans clusters are more equal sizes and K Means forms clusters in shape of spherical clusters that can be visualized in 3D interpretation.\n",
    "* Agglomerative cluster seems to capture irregular shapes, i.e. it is not constrained to form only sherical clusters and can capture any irregular pattern."
   ]
  },
  {
   "cell_type": "markdown",
   "id": "cbc4df56",
   "metadata": {},
   "source": [
    "### Lets try to visualize it in 3D using plotly"
   ]
  },
  {
   "cell_type": "code",
   "execution_count": 17,
   "id": "a1c438ee",
   "metadata": {},
   "outputs": [],
   "source": [
    "import plotly.express as px\n",
    "\n",
    "# Converting numpy array X_scaled back into dataframe with its original features\n",
    "df_scaled = X\n",
    "df_scaled['treatment']=df['treatment'].map({'No':0,'Yes':1})\n",
    "df_scaled[\"Kmeans\"]=kmeans_labels"
   ]
  },
  {
   "cell_type": "markdown",
   "id": "be2b1863",
   "metadata": {},
   "source": [
    "# K Means Clustering Insights "
   ]
  },
  {
   "cell_type": "code",
   "execution_count": 18,
   "id": "66b63f0a",
   "metadata": {},
   "outputs": [
    {
     "data": {
      "text/html": [
       "<div>\n",
       "<style scoped>\n",
       "    .dataframe tbody tr th:only-of-type {\n",
       "        vertical-align: middle;\n",
       "    }\n",
       "\n",
       "    .dataframe tbody tr th {\n",
       "        vertical-align: top;\n",
       "    }\n",
       "\n",
       "    .dataframe thead tr th {\n",
       "        text-align: left;\n",
       "    }\n",
       "\n",
       "    .dataframe thead tr:last-of-type th {\n",
       "        text-align: right;\n",
       "    }\n",
       "</style>\n",
       "<table border=\"1\" class=\"dataframe\">\n",
       "  <thead>\n",
       "    <tr>\n",
       "      <th></th>\n",
       "      <th colspan=\"8\" halign=\"left\">mental_support</th>\n",
       "      <th colspan=\"8\" halign=\"left\">mental_exp</th>\n",
       "      <th colspan=\"8\" halign=\"left\">openness</th>\n",
       "    </tr>\n",
       "    <tr>\n",
       "      <th></th>\n",
       "      <th>count</th>\n",
       "      <th>mean</th>\n",
       "      <th>std</th>\n",
       "      <th>min</th>\n",
       "      <th>25%</th>\n",
       "      <th>50%</th>\n",
       "      <th>75%</th>\n",
       "      <th>max</th>\n",
       "      <th>count</th>\n",
       "      <th>mean</th>\n",
       "      <th>std</th>\n",
       "      <th>min</th>\n",
       "      <th>25%</th>\n",
       "      <th>50%</th>\n",
       "      <th>75%</th>\n",
       "      <th>max</th>\n",
       "      <th>count</th>\n",
       "      <th>mean</th>\n",
       "      <th>std</th>\n",
       "      <th>min</th>\n",
       "      <th>25%</th>\n",
       "      <th>50%</th>\n",
       "      <th>75%</th>\n",
       "      <th>max</th>\n",
       "    </tr>\n",
       "    <tr>\n",
       "      <th>Kmeans</th>\n",
       "      <th></th>\n",
       "      <th></th>\n",
       "      <th></th>\n",
       "      <th></th>\n",
       "      <th></th>\n",
       "      <th></th>\n",
       "      <th></th>\n",
       "      <th></th>\n",
       "      <th></th>\n",
       "      <th></th>\n",
       "      <th></th>\n",
       "      <th></th>\n",
       "      <th></th>\n",
       "      <th></th>\n",
       "      <th></th>\n",
       "      <th></th>\n",
       "      <th></th>\n",
       "      <th></th>\n",
       "      <th></th>\n",
       "      <th></th>\n",
       "      <th></th>\n",
       "      <th></th>\n",
       "      <th></th>\n",
       "      <th></th>\n",
       "    </tr>\n",
       "  </thead>\n",
       "  <tbody>\n",
       "    <tr>\n",
       "      <th>0</th>\n",
       "      <td>261.0</td>\n",
       "      <td>6.114943</td>\n",
       "      <td>1.034132</td>\n",
       "      <td>4.0</td>\n",
       "      <td>5.5</td>\n",
       "      <td>6.0</td>\n",
       "      <td>7.000</td>\n",
       "      <td>8.0</td>\n",
       "      <td>261.0</td>\n",
       "      <td>2.243295</td>\n",
       "      <td>1.049360</td>\n",
       "      <td>0.0</td>\n",
       "      <td>1.5</td>\n",
       "      <td>2.5</td>\n",
       "      <td>3.0</td>\n",
       "      <td>5.5</td>\n",
       "      <td>261.0</td>\n",
       "      <td>1.574713</td>\n",
       "      <td>0.637884</td>\n",
       "      <td>0.0</td>\n",
       "      <td>1.0</td>\n",
       "      <td>1.5</td>\n",
       "      <td>2.0</td>\n",
       "      <td>3.0</td>\n",
       "    </tr>\n",
       "    <tr>\n",
       "      <th>1</th>\n",
       "      <td>359.0</td>\n",
       "      <td>2.931755</td>\n",
       "      <td>1.121872</td>\n",
       "      <td>0.0</td>\n",
       "      <td>2.0</td>\n",
       "      <td>3.0</td>\n",
       "      <td>3.500</td>\n",
       "      <td>6.0</td>\n",
       "      <td>359.0</td>\n",
       "      <td>1.501393</td>\n",
       "      <td>0.666956</td>\n",
       "      <td>0.0</td>\n",
       "      <td>1.0</td>\n",
       "      <td>1.5</td>\n",
       "      <td>2.0</td>\n",
       "      <td>2.5</td>\n",
       "      <td>359.0</td>\n",
       "      <td>0.477716</td>\n",
       "      <td>0.401887</td>\n",
       "      <td>0.0</td>\n",
       "      <td>0.0</td>\n",
       "      <td>0.5</td>\n",
       "      <td>1.0</td>\n",
       "      <td>1.5</td>\n",
       "    </tr>\n",
       "    <tr>\n",
       "      <th>2</th>\n",
       "      <td>326.0</td>\n",
       "      <td>2.987730</td>\n",
       "      <td>1.229698</td>\n",
       "      <td>0.0</td>\n",
       "      <td>2.0</td>\n",
       "      <td>3.0</td>\n",
       "      <td>3.875</td>\n",
       "      <td>6.0</td>\n",
       "      <td>326.0</td>\n",
       "      <td>3.613497</td>\n",
       "      <td>0.696807</td>\n",
       "      <td>2.5</td>\n",
       "      <td>3.0</td>\n",
       "      <td>3.5</td>\n",
       "      <td>4.0</td>\n",
       "      <td>5.5</td>\n",
       "      <td>326.0</td>\n",
       "      <td>0.884969</td>\n",
       "      <td>0.649109</td>\n",
       "      <td>0.0</td>\n",
       "      <td>0.5</td>\n",
       "      <td>1.0</td>\n",
       "      <td>1.5</td>\n",
       "      <td>2.5</td>\n",
       "    </tr>\n",
       "    <tr>\n",
       "      <th>3</th>\n",
       "      <td>306.0</td>\n",
       "      <td>3.416667</td>\n",
       "      <td>1.024495</td>\n",
       "      <td>0.5</td>\n",
       "      <td>2.5</td>\n",
       "      <td>3.5</td>\n",
       "      <td>4.000</td>\n",
       "      <td>6.0</td>\n",
       "      <td>306.0</td>\n",
       "      <td>0.887255</td>\n",
       "      <td>0.740758</td>\n",
       "      <td>0.0</td>\n",
       "      <td>0.5</td>\n",
       "      <td>0.5</td>\n",
       "      <td>1.5</td>\n",
       "      <td>3.0</td>\n",
       "      <td>306.0</td>\n",
       "      <td>1.857843</td>\n",
       "      <td>0.468923</td>\n",
       "      <td>1.0</td>\n",
       "      <td>1.5</td>\n",
       "      <td>2.0</td>\n",
       "      <td>2.0</td>\n",
       "      <td>3.0</td>\n",
       "    </tr>\n",
       "  </tbody>\n",
       "</table>\n",
       "</div>"
      ],
      "text/plain": [
       "       mental_support                                                 \\\n",
       "                count      mean       std  min  25%  50%    75%  max   \n",
       "Kmeans                                                                 \n",
       "0               261.0  6.114943  1.034132  4.0  5.5  6.0  7.000  8.0   \n",
       "1               359.0  2.931755  1.121872  0.0  2.0  3.0  3.500  6.0   \n",
       "2               326.0  2.987730  1.229698  0.0  2.0  3.0  3.875  6.0   \n",
       "3               306.0  3.416667  1.024495  0.5  2.5  3.5  4.000  6.0   \n",
       "\n",
       "       mental_exp                                              openness  \\\n",
       "            count      mean       std  min  25%  50%  75%  max    count   \n",
       "Kmeans                                                                    \n",
       "0           261.0  2.243295  1.049360  0.0  1.5  2.5  3.0  5.5    261.0   \n",
       "1           359.0  1.501393  0.666956  0.0  1.0  1.5  2.0  2.5    359.0   \n",
       "2           326.0  3.613497  0.696807  2.5  3.0  3.5  4.0  5.5    326.0   \n",
       "3           306.0  0.887255  0.740758  0.0  0.5  0.5  1.5  3.0    306.0   \n",
       "\n",
       "                                                     \n",
       "            mean       std  min  25%  50%  75%  max  \n",
       "Kmeans                                               \n",
       "0       1.574713  0.637884  0.0  1.0  1.5  2.0  3.0  \n",
       "1       0.477716  0.401887  0.0  0.0  0.5  1.0  1.5  \n",
       "2       0.884969  0.649109  0.0  0.5  1.0  1.5  2.5  \n",
       "3       1.857843  0.468923  1.0  1.5  2.0  2.0  3.0  "
      ]
     },
     "execution_count": 18,
     "metadata": {},
     "output_type": "execute_result"
    }
   ],
   "source": [
    "df_scaled.groupby('Kmeans')[[\"mental_support\",'mental_exp','openness']].describe()"
   ]
  },
  {
   "cell_type": "code",
   "execution_count": 19,
   "id": "ae10cd7a",
   "metadata": {},
   "outputs": [
    {
     "data": {
      "text/html": [
       "<div>\n",
       "<style scoped>\n",
       "    .dataframe tbody tr th:only-of-type {\n",
       "        vertical-align: middle;\n",
       "    }\n",
       "\n",
       "    .dataframe tbody tr th {\n",
       "        vertical-align: top;\n",
       "    }\n",
       "\n",
       "    .dataframe thead th {\n",
       "        text-align: right;\n",
       "    }\n",
       "</style>\n",
       "<table border=\"1\" class=\"dataframe\">\n",
       "  <thead>\n",
       "    <tr style=\"text-align: right;\">\n",
       "      <th>treatment</th>\n",
       "      <th>0</th>\n",
       "      <th>1</th>\n",
       "    </tr>\n",
       "    <tr>\n",
       "      <th>Kmeans</th>\n",
       "      <th></th>\n",
       "      <th></th>\n",
       "    </tr>\n",
       "  </thead>\n",
       "  <tbody>\n",
       "    <tr>\n",
       "      <th>0</th>\n",
       "      <td>77</td>\n",
       "      <td>184</td>\n",
       "    </tr>\n",
       "    <tr>\n",
       "      <th>1</th>\n",
       "      <td>266</td>\n",
       "      <td>93</td>\n",
       "    </tr>\n",
       "    <tr>\n",
       "      <th>2</th>\n",
       "      <td>28</td>\n",
       "      <td>298</td>\n",
       "    </tr>\n",
       "    <tr>\n",
       "      <th>3</th>\n",
       "      <td>249</td>\n",
       "      <td>57</td>\n",
       "    </tr>\n",
       "  </tbody>\n",
       "</table>\n",
       "</div>"
      ],
      "text/plain": [
       "treatment    0    1\n",
       "Kmeans             \n",
       "0           77  184\n",
       "1          266   93\n",
       "2           28  298\n",
       "3          249   57"
      ]
     },
     "execution_count": 19,
     "metadata": {},
     "output_type": "execute_result"
    }
   ],
   "source": [
    "pd.crosstab(df_scaled['Kmeans'],df_scaled['treatment'])"
   ]
  },
  {
   "cell_type": "markdown",
   "id": "3e5a11b3",
   "metadata": {},
   "source": [
    "### **Cluster-Wise Insights:**\n",
    "1. **Cluster 0**:\n",
    "* High mental health support with low to medium openness and experience with mental health issues.\n",
    "* Majority has taken treatment that can be due to higher mental health support and moderate openness.\n",
    "* Cluster 0 belongs to the people who seeks treatment and have required facilties but still they demands some effort to open up and share their mental health issues.\n",
    "\n",
    "2. **Cluster 1:**\n",
    "* Very low openness and experience indicating that they are unaware and they are provided with very few facities for mental health.\n",
    "* Highest count of no treatment taken indicating that openness and support provided has strong influence, if they are not comfortable to tell their mental health issue and are not provided with any mental health support then wouldn't seek treatments.\n",
    "* Cluster 1 belongs to those who are unaware or either ignorant toward mental health issues and don't seeks treatment because they are not provided with facilities and support.\n",
    "\n",
    "3. **Cluster 2:**\n",
    "* High experience with mental health issues thus aware about its consequences, moderate openness and low mental health support.\n",
    "* Highest treatment taken count suggests that having mental health experience is very influencial when it comes to seeking treatment.\n",
    "* Cluster 2 belongs to those who are less open to discuss their mental health issues but are aware of the consequences and seek treatments.\n",
    "\n",
    "4. **Cluster 3:**\n",
    "* High openess to discuss there mental health issues but has low mental health support and experience.\n",
    "* Majority hasn't taken any treatment, suggests that high openness has less positive influence on people seeking treatments.\n",
    "* Cluster 3 belongs to people who aren't aware of mental health issues and aren't provided with facilities regarding their mental health.\n",
    "\n",
    "### **Summary of Findings:**\n",
    "> * Mental health experience is the most significant factor influencing whether someone seeks treatment.\n",
    "> * Low openness reduces the likelihood of treatment, while high openness alone does not guarantee action.\n",
    "> * Mental health support encourages treatment but isn’t a deciding factor in its absence — awareness can still drive people to seek help even without external support.\n",
    "\n",
    "### **Tags for each cluster:**\n",
    " * **Cluster 0** – \"Well-Supported but Private Individuals\"\n",
    ">*Why?*  Have resources and facities but they are not open to talk discuss their problems.\n",
    " * **Cluster 1** – \"Isolated and Inexperienced Individuals\"\n",
    ">*Why?*  They don't seek treatment and aren't comfortable in sharing their problems.\n",
    " * **Cluster 2** – \"Aware and Treatment-Seeking Individuals\"\n",
    ">*Why?*  Has personal experience of mental health issues and seek treatment when required.\n",
    " * **Cluster 3** – \"Open but Unsupported Individuals\"\n",
    ">*Why?*  They are open to discuss their mental health issues but they don't have facilities and are unaware about the consequences of mental health issues.\n",
    "\n",
    "## **Recommendations:**\n",
    "* **Cluster 0:**  Assign specific supervisors or mental health counselors for individualized, session-based meetings. Build trust through expressive dialogue and tailor support to increase treatment adherence.\n",
    "* **Cluster 1:** Launch immediate ad campaigns and interactive sessions to promote recognition and early detection of mental health issues. Implement self-service aide mechanisms like confidential evaluations and automated guided therapy to allow self-direction to care.\n",
    "* **Cluster 2:** Improve mental health service delivery by including optional individual counseling and peer counseling. This group shows a high degree of awareness and self-initiative. We may leverage them to act as mental health agents of change.\n",
    "* **Cluster 3:** Implement proactive mental wellness and awareness workshops. This cohort can be cultivated as mental health peer mentors or champions to foster positive work or academic culture."
   ]
  },
  {
   "cell_type": "code",
   "execution_count": 20,
   "id": "9e1b0775",
   "metadata": {},
   "outputs": [
    {
     "data": {
      "application/vnd.plotly.v1+json": {
       "config": {
        "plotlyServerURL": "https://plot.ly"
       },
       "data": [
        {
         "customdata": {
          "bdata": "AQABAQEBAQEAAAEAAQEBAQEBAAEAAQEBAAEBAAEBAQABAQABAAEAAQEBAAEAAQEBAQABAQEBAQEBAQABAQEAAQAAAQEBAAEBAAEAAQEBAQEBAAEBAQABAQEBAQEAAAEBAQEBAQEBAQABAQEAAQEAAQEBAQABAAEBAAAAAAEBAQEBAQAAAQAAAQEBAQEBAQEBAQAAAAABAQEAAAABAQEBAQEBAQEBAAEAAQEBAQEBAAEAAQAAAAEBAAAAAAAAAQEBAQAAAAEAAQEBAAABAQEBAQEAAAABAQEBAQEAAAEAAAEBAQEAAAEBAQEBAQEBAQEBAQEBAQABAQEBAQEAAQEBAQEBAQEA",
          "dtype": "i1",
          "shape": "261, 1"
         },
         "hovertemplate": "Kmeans_tags=Well-Supported but Private Individuals<br>mental_support=%{x}<br>openness=%{y}<br>mental_exp=%{z}<br>treatment=%{customdata[0]}<extra></extra>",
         "legendgroup": "Well-Supported but Private Individuals",
         "marker": {
          "color": "#636EFA",
          "opacity": 0.7,
          "size": 5,
          "symbol": "circle"
         },
         "mode": "markers",
         "name": "Well-Supported but Private Individuals",
         "scene": "scene",
         "showlegend": true,
         "type": "scatter3d",
         "x": {
          "bdata": "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",
          "dtype": "f8"
         },
         "y": {
          "bdata": "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",
          "dtype": "f8"
         },
         "z": {
          "bdata": "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",
          "dtype": "f8"
         }
        },
        {
         "customdata": {
          "bdata": "AAABAAEAAQAAAQAAAAABAAAAAAAAAAAAAAEAAAEAAAEAAAAAAQAAAAEAAAAAAAABAAABAAAAAAEAAAAAAAABAQAAAQABAQAAAQAAAAAAAAABAAEAAAAAAAAAAQAAAAEBAAAAAAABAAEAAQEBAQEBAAAAAAAAAAABAAEAAAEBAAABAAAAAAAAAQABAAEAAAAAAAAAAQABAAAAAAAAAAEAAAABAAAAAQEAAQAAAAEAAAAAAAAAAAAAAAABAAAAAAAAAQEAAAEAAAAAAAAAAAEAAAAAAAAAAAAAAQABAQAAAAEBAQAAAAEAAAAAAQEAAAAAAQABAAAAAAEBAQAAAAAAAAAAAAEAAAABAAABAQEBAAABAAEAAAAAAAAAAQAAAAAAAAAAAAAAAAAAAQAAAQAAAAEAAQAAAQAAAQAAAAABAQEAAAABAAAAAAAAAAEAAAAAAAEAAAEAAAAAAAAAAAAAAAABAAEBAQA=",
          "dtype": "i1",
          "shape": "359, 1"
         },
         "hovertemplate": "Kmeans_tags=Isolated and Inexperienced Individuals<br>mental_support=%{x}<br>openness=%{y}<br>mental_exp=%{z}<br>treatment=%{customdata[0]}<extra></extra>",
         "legendgroup": "Isolated and Inexperienced Individuals",
         "marker": {
          "color": "#EF553B",
          "opacity": 0.7,
          "size": 5,
          "symbol": "circle"
         },
         "mode": "markers",
         "name": "Isolated and Inexperienced Individuals",
         "scene": "scene",
         "showlegend": true,
         "type": "scatter3d",
         "x": {
          "bdata": "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",
          "dtype": "f8"
         },
         "y": {
          "bdata": "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",
          "dtype": "f8"
         },
         "z": {
          "bdata": "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",
          "dtype": "f8"
         }
        },
        {
         "customdata": {
          "bdata": "AAAAAAEAAAABAAEAAAAAAAAAAAEAAAAAAAAAAAAAAAAAAQAAAQAAAAAAAAAAAAEAAQAAAAAAAAABAAAAAAABAAEAAQAAAAAAAAAAAAAAAAAAAAAAAAABAAABAAAAAAABAQAAAAAAAQAAAAEAAAABAAAAAAAAAAAAAAABAAAAAAAAAAEAAAAAAAABAQABAAAAAAAAAAABAAABAAEAAAAAAAAAAAAAAAAAAQAAAAAAAAEAAAAAAAAAAQAAAAAAAQABAAEAAAAAAAABAQAAAAAAAAAAAAAAAAABAAEAAAEAAAAAAAABAAAAAAAAAAAAAAAAAAAAAAABAAAAAAAAAAAAAAEAAAAAAAEAAAEAAQAAAAAAAQABAQABAAEAAAAAAQAAAQAAAAAAAQABAQAAAQEBAAAA",
          "dtype": "i1",
          "shape": "306, 1"
         },
         "hovertemplate": "Kmeans_tags=Open but Unsupported Individuals<br>mental_support=%{x}<br>openness=%{y}<br>mental_exp=%{z}<br>treatment=%{customdata[0]}<extra></extra>",
         "legendgroup": "Open but Unsupported Individuals",
         "marker": {
          "color": "#00CC96",
          "opacity": 0.7,
          "size": 5,
          "symbol": "circle"
         },
         "mode": "markers",
         "name": "Open but Unsupported Individuals",
         "scene": "scene",
         "showlegend": true,
         "type": "scatter3d",
         "x": {
          "bdata": "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",
          "dtype": "f8"
         },
         "y": {
          "bdata": "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",
          "dtype": "f8"
         },
         "z": {
          "bdata": "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",
          "dtype": "f8"
         }
        },
        {
         "customdata": {
          "bdata": "AQEBAQEBAQEAAQEBAQEBAQEAAQEBAQEBAQEAAQEBAQEAAQEBAAEBAQEBAQEBAAEBAQEBAAEBAQEBAQEBAQEBAQEBAQEBAQEBAQEAAQEBAQEBAQEBAQEBAQEBAQABAQEBAQEBAAEBAQEBAAABAQEBAQEBAQEBAQEBAQEAAQEAAQEBAQEBAQEBAQEBAQEBAQEBAQEBAQEBAQABAQEBAQEBAQEBAQEBAAEBAQEBAQEBAQEBAQEBAQEBAQEBAQEBAQEBAQEBAAEBAQEBAQEBAQEBAQEBAQEBAQEBAQEBAQEBAQEBAQEBAQEBAQEAAQEBAQEBAQEBAQABAQEAAQEAAQABAQEBAQEAAQEBAQEBAQEBAQEBAQEBAQEBAQEBAQEBAAABAQEBAQEBAQABAQEBAQEBAQEBAQEAAAEBAQEBAQEBAQEBAQEBAQE=",
          "dtype": "i1",
          "shape": "326, 1"
         },
         "hovertemplate": "Kmeans_tags=Aware and Treatment-Seeking Individuals<br>mental_support=%{x}<br>openness=%{y}<br>mental_exp=%{z}<br>treatment=%{customdata[0]}<extra></extra>",
         "legendgroup": "Aware and Treatment-Seeking Individuals",
         "marker": {
          "color": "#AB63FA",
          "opacity": 0.7,
          "size": 5,
          "symbol": "circle"
         },
         "mode": "markers",
         "name": "Aware and Treatment-Seeking Individuals",
         "scene": "scene",
         "showlegend": true,
         "type": "scatter3d",
         "x": {
          "bdata": "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",
          "dtype": "f8"
         },
         "y": {
          "bdata": "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",
          "dtype": "f8"
         },
         "z": {
          "bdata": "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",
          "dtype": "f8"
         }
        }
       ],
       "layout": {
        "legend": {
         "title": {
          "text": "Kmeans_tags"
         },
         "tracegroupgap": 0
        },
        "scene": {
         "domain": {
          "x": [
           0,
           1
          ],
          "y": [
           0,
           1
          ]
         },
         "xaxis": {
          "title": {
           "text": "mental_support"
          }
         },
         "yaxis": {
          "title": {
           "text": "openness"
          }
         },
         "zaxis": {
          "title": {
           "text": "mental_exp"
          }
         }
        },
        "template": {
         "data": {
          "bar": [
           {
            "error_x": {
             "color": "#2a3f5f"
            },
            "error_y": {
             "color": "#2a3f5f"
            },
            "marker": {
             "line": {
              "color": "#E5ECF6",
              "width": 0.5
             },
             "pattern": {
              "fillmode": "overlay",
              "size": 10,
              "solidity": 0.2
             }
            },
            "type": "bar"
           }
          ],
          "barpolar": [
           {
            "marker": {
             "line": {
              "color": "#E5ECF6",
              "width": 0.5
             },
             "pattern": {
              "fillmode": "overlay",
              "size": 10,
              "solidity": 0.2
             }
            },
            "type": "barpolar"
           }
          ],
          "carpet": [
           {
            "aaxis": {
             "endlinecolor": "#2a3f5f",
             "gridcolor": "white",
             "linecolor": "white",
             "minorgridcolor": "white",
             "startlinecolor": "#2a3f5f"
            },
            "baxis": {
             "endlinecolor": "#2a3f5f",
             "gridcolor": "white",
             "linecolor": "white",
             "minorgridcolor": "white",
             "startlinecolor": "#2a3f5f"
            },
            "type": "carpet"
           }
          ],
          "choropleth": [
           {
            "colorbar": {
             "outlinewidth": 0,
             "ticks": ""
            },
            "type": "choropleth"
           }
          ],
          "contour": [
           {
            "colorbar": {
             "outlinewidth": 0,
             "ticks": ""
            },
            "colorscale": [
             [
              0,
              "#0d0887"
             ],
             [
              0.1111111111111111,
              "#46039f"
             ],
             [
              0.2222222222222222,
              "#7201a8"
             ],
             [
              0.3333333333333333,
              "#9c179e"
             ],
             [
              0.4444444444444444,
              "#bd3786"
             ],
             [
              0.5555555555555556,
              "#d8576b"
             ],
             [
              0.6666666666666666,
              "#ed7953"
             ],
             [
              0.7777777777777778,
              "#fb9f3a"
             ],
             [
              0.8888888888888888,
              "#fdca26"
             ],
             [
              1,
              "#f0f921"
             ]
            ],
            "type": "contour"
           }
          ],
          "contourcarpet": [
           {
            "colorbar": {
             "outlinewidth": 0,
             "ticks": ""
            },
            "type": "contourcarpet"
           }
          ],
          "heatmap": [
           {
            "colorbar": {
             "outlinewidth": 0,
             "ticks": ""
            },
            "colorscale": [
             [
              0,
              "#0d0887"
             ],
             [
              0.1111111111111111,
              "#46039f"
             ],
             [
              0.2222222222222222,
              "#7201a8"
             ],
             [
              0.3333333333333333,
              "#9c179e"
             ],
             [
              0.4444444444444444,
              "#bd3786"
             ],
             [
              0.5555555555555556,
              "#d8576b"
             ],
             [
              0.6666666666666666,
              "#ed7953"
             ],
             [
              0.7777777777777778,
              "#fb9f3a"
             ],
             [
              0.8888888888888888,
              "#fdca26"
             ],
             [
              1,
              "#f0f921"
             ]
            ],
            "type": "heatmap"
           }
          ],
          "histogram": [
           {
            "marker": {
             "pattern": {
              "fillmode": "overlay",
              "size": 10,
              "solidity": 0.2
             }
            },
            "type": "histogram"
           }
          ],
          "histogram2d": [
           {
            "colorbar": {
             "outlinewidth": 0,
             "ticks": ""
            },
            "colorscale": [
             [
              0,
              "#0d0887"
             ],
             [
              0.1111111111111111,
              "#46039f"
             ],
             [
              0.2222222222222222,
              "#7201a8"
             ],
             [
              0.3333333333333333,
              "#9c179e"
             ],
             [
              0.4444444444444444,
              "#bd3786"
             ],
             [
              0.5555555555555556,
              "#d8576b"
             ],
             [
              0.6666666666666666,
              "#ed7953"
             ],
             [
              0.7777777777777778,
              "#fb9f3a"
             ],
             [
              0.8888888888888888,
              "#fdca26"
             ],
             [
              1,
              "#f0f921"
             ]
            ],
            "type": "histogram2d"
           }
          ],
          "histogram2dcontour": [
           {
            "colorbar": {
             "outlinewidth": 0,
             "ticks": ""
            },
            "colorscale": [
             [
              0,
              "#0d0887"
             ],
             [
              0.1111111111111111,
              "#46039f"
             ],
             [
              0.2222222222222222,
              "#7201a8"
             ],
             [
              0.3333333333333333,
              "#9c179e"
             ],
             [
              0.4444444444444444,
              "#bd3786"
             ],
             [
              0.5555555555555556,
              "#d8576b"
             ],
             [
              0.6666666666666666,
              "#ed7953"
             ],
             [
              0.7777777777777778,
              "#fb9f3a"
             ],
             [
              0.8888888888888888,
              "#fdca26"
             ],
             [
              1,
              "#f0f921"
             ]
            ],
            "type": "histogram2dcontour"
           }
          ],
          "mesh3d": [
           {
            "colorbar": {
             "outlinewidth": 0,
             "ticks": ""
            },
            "type": "mesh3d"
           }
          ],
          "parcoords": [
           {
            "line": {
             "colorbar": {
              "outlinewidth": 0,
              "ticks": ""
             }
            },
            "type": "parcoords"
           }
          ],
          "pie": [
           {
            "automargin": true,
            "type": "pie"
           }
          ],
          "scatter": [
           {
            "fillpattern": {
             "fillmode": "overlay",
             "size": 10,
             "solidity": 0.2
            },
            "type": "scatter"
           }
          ],
          "scatter3d": [
           {
            "line": {
             "colorbar": {
              "outlinewidth": 0,
              "ticks": ""
             }
            },
            "marker": {
             "colorbar": {
              "outlinewidth": 0,
              "ticks": ""
             }
            },
            "type": "scatter3d"
           }
          ],
          "scattercarpet": [
           {
            "marker": {
             "colorbar": {
              "outlinewidth": 0,
              "ticks": ""
             }
            },
            "type": "scattercarpet"
           }
          ],
          "scattergeo": [
           {
            "marker": {
             "colorbar": {
              "outlinewidth": 0,
              "ticks": ""
             }
            },
            "type": "scattergeo"
           }
          ],
          "scattergl": [
           {
            "marker": {
             "colorbar": {
              "outlinewidth": 0,
              "ticks": ""
             }
            },
            "type": "scattergl"
           }
          ],
          "scattermap": [
           {
            "marker": {
             "colorbar": {
              "outlinewidth": 0,
              "ticks": ""
             }
            },
            "type": "scattermap"
           }
          ],
          "scattermapbox": [
           {
            "marker": {
             "colorbar": {
              "outlinewidth": 0,
              "ticks": ""
             }
            },
            "type": "scattermapbox"
           }
          ],
          "scatterpolar": [
           {
            "marker": {
             "colorbar": {
              "outlinewidth": 0,
              "ticks": ""
             }
            },
            "type": "scatterpolar"
           }
          ],
          "scatterpolargl": [
           {
            "marker": {
             "colorbar": {
              "outlinewidth": 0,
              "ticks": ""
             }
            },
            "type": "scatterpolargl"
           }
          ],
          "scatterternary": [
           {
            "marker": {
             "colorbar": {
              "outlinewidth": 0,
              "ticks": ""
             }
            },
            "type": "scatterternary"
           }
          ],
          "surface": [
           {
            "colorbar": {
             "outlinewidth": 0,
             "ticks": ""
            },
            "colorscale": [
             [
              0,
              "#0d0887"
             ],
             [
              0.1111111111111111,
              "#46039f"
             ],
             [
              0.2222222222222222,
              "#7201a8"
             ],
             [
              0.3333333333333333,
              "#9c179e"
             ],
             [
              0.4444444444444444,
              "#bd3786"
             ],
             [
              0.5555555555555556,
              "#d8576b"
             ],
             [
              0.6666666666666666,
              "#ed7953"
             ],
             [
              0.7777777777777778,
              "#fb9f3a"
             ],
             [
              0.8888888888888888,
              "#fdca26"
             ],
             [
              1,
              "#f0f921"
             ]
            ],
            "type": "surface"
           }
          ],
          "table": [
           {
            "cells": {
             "fill": {
              "color": "#EBF0F8"
             },
             "line": {
              "color": "white"
             }
            },
            "header": {
             "fill": {
              "color": "#C8D4E3"
             },
             "line": {
              "color": "white"
             }
            },
            "type": "table"
           }
          ]
         },
         "layout": {
          "annotationdefaults": {
           "arrowcolor": "#2a3f5f",
           "arrowhead": 0,
           "arrowwidth": 1
          },
          "autotypenumbers": "strict",
          "coloraxis": {
           "colorbar": {
            "outlinewidth": 0,
            "ticks": ""
           }
          },
          "colorscale": {
           "diverging": [
            [
             0,
             "#8e0152"
            ],
            [
             0.1,
             "#c51b7d"
            ],
            [
             0.2,
             "#de77ae"
            ],
            [
             0.3,
             "#f1b6da"
            ],
            [
             0.4,
             "#fde0ef"
            ],
            [
             0.5,
             "#f7f7f7"
            ],
            [
             0.6,
             "#e6f5d0"
            ],
            [
             0.7,
             "#b8e186"
            ],
            [
             0.8,
             "#7fbc41"
            ],
            [
             0.9,
             "#4d9221"
            ],
            [
             1,
             "#276419"
            ]
           ],
           "sequential": [
            [
             0,
             "#0d0887"
            ],
            [
             0.1111111111111111,
             "#46039f"
            ],
            [
             0.2222222222222222,
             "#7201a8"
            ],
            [
             0.3333333333333333,
             "#9c179e"
            ],
            [
             0.4444444444444444,
             "#bd3786"
            ],
            [
             0.5555555555555556,
             "#d8576b"
            ],
            [
             0.6666666666666666,
             "#ed7953"
            ],
            [
             0.7777777777777778,
             "#fb9f3a"
            ],
            [
             0.8888888888888888,
             "#fdca26"
            ],
            [
             1,
             "#f0f921"
            ]
           ],
           "sequentialminus": [
            [
             0,
             "#0d0887"
            ],
            [
             0.1111111111111111,
             "#46039f"
            ],
            [
             0.2222222222222222,
             "#7201a8"
            ],
            [
             0.3333333333333333,
             "#9c179e"
            ],
            [
             0.4444444444444444,
             "#bd3786"
            ],
            [
             0.5555555555555556,
             "#d8576b"
            ],
            [
             0.6666666666666666,
             "#ed7953"
            ],
            [
             0.7777777777777778,
             "#fb9f3a"
            ],
            [
             0.8888888888888888,
             "#fdca26"
            ],
            [
             1,
             "#f0f921"
            ]
           ]
          },
          "colorway": [
           "#636efa",
           "#EF553B",
           "#00cc96",
           "#ab63fa",
           "#FFA15A",
           "#19d3f3",
           "#FF6692",
           "#B6E880",
           "#FF97FF",
           "#FECB52"
          ],
          "font": {
           "color": "#2a3f5f"
          },
          "geo": {
           "bgcolor": "white",
           "lakecolor": "white",
           "landcolor": "#E5ECF6",
           "showlakes": true,
           "showland": true,
           "subunitcolor": "white"
          },
          "hoverlabel": {
           "align": "left"
          },
          "hovermode": "closest",
          "mapbox": {
           "style": "light"
          },
          "paper_bgcolor": "white",
          "plot_bgcolor": "#E5ECF6",
          "polar": {
           "angularaxis": {
            "gridcolor": "white",
            "linecolor": "white",
            "ticks": ""
           },
           "bgcolor": "#E5ECF6",
           "radialaxis": {
            "gridcolor": "white",
            "linecolor": "white",
            "ticks": ""
           }
          },
          "scene": {
           "xaxis": {
            "backgroundcolor": "#E5ECF6",
            "gridcolor": "white",
            "gridwidth": 2,
            "linecolor": "white",
            "showbackground": true,
            "ticks": "",
            "zerolinecolor": "white"
           },
           "yaxis": {
            "backgroundcolor": "#E5ECF6",
            "gridcolor": "white",
            "gridwidth": 2,
            "linecolor": "white",
            "showbackground": true,
            "ticks": "",
            "zerolinecolor": "white"
           },
           "zaxis": {
            "backgroundcolor": "#E5ECF6",
            "gridcolor": "white",
            "gridwidth": 2,
            "linecolor": "white",
            "showbackground": true,
            "ticks": "",
            "zerolinecolor": "white"
           }
          },
          "shapedefaults": {
           "line": {
            "color": "#2a3f5f"
           }
          },
          "ternary": {
           "aaxis": {
            "gridcolor": "white",
            "linecolor": "white",
            "ticks": ""
           },
           "baxis": {
            "gridcolor": "white",
            "linecolor": "white",
            "ticks": ""
           },
           "bgcolor": "#E5ECF6",
           "caxis": {
            "gridcolor": "white",
            "linecolor": "white",
            "ticks": ""
           }
          },
          "title": {
           "x": 0.05
          },
          "xaxis": {
           "automargin": true,
           "gridcolor": "white",
           "linecolor": "white",
           "ticks": "",
           "title": {
            "standoff": 15
           },
           "zerolinecolor": "white",
           "zerolinewidth": 2
          },
          "yaxis": {
           "automargin": true,
           "gridcolor": "white",
           "linecolor": "white",
           "ticks": "",
           "title": {
            "standoff": 15
           },
           "zerolinecolor": "white",
           "zerolinewidth": 2
          }
         }
        },
        "title": {
         "text": "3D KMeans Cluster Visualization"
        }
       }
      }
     },
     "metadata": {},
     "output_type": "display_data"
    }
   ],
   "source": [
    "# Mapping the given tags to Clusters\n",
    "\n",
    "df_scaled['Kmeans_tags']=df_scaled['Kmeans'].map({\n",
    "                                                  0:\"Well-Supported but Private Individuals\",\n",
    "                                                  1:\"Isolated and Inexperienced Individuals\",\n",
    "                                                  2:\"Aware and Treatment-Seeking Individuals\",\n",
    "                                                  3:\"Open but Unsupported Individuals\"\n",
    "                                                  })\n",
    "\n",
    "# 3D Visualization for better understand\n",
    "fig_kmeans= px.scatter_3d(\n",
    "    df_scaled,\n",
    "    x='mental_support',\n",
    "    y='openness',\n",
    "    z='mental_exp',\n",
    "    color='Kmeans_tags',\n",
    "    hover_data='treatment',\n",
    "    color_discrete_sequence=['#636EFA', '#EF553B', '#00CC96', \"#AB63FA\"],\n",
    "    category_orders={\n",
    "    \"Cluster Tags\": [\n",
    "        \"Well-Supported but Private Individuals\",\n",
    "        \"Isolated and Inexperienced Individuals\",\n",
    "        \"Aware and Treatment-Seeking Individuals\",\n",
    "        \"Open but Unsupported Individuals\"\n",
    "    ]\n",
    "},\n",
    "    title=\"3D KMeans Cluster Visualization\",\n",
    "    opacity=0.7,\n",
    ")\n",
    "fig_kmeans.update_traces(marker=dict(size=5))\n",
    "fig_kmeans.show()"
   ]
  },
  {
   "cell_type": "markdown",
   "id": "f9b8439e",
   "metadata": {},
   "source": [
    "# Clustering Analysis of Tech Workers Only\n",
    "\n",
    "This section focuses exclusively on individuals working in tech companies. We aim to segment these respondents into meaningful clusters based on their behavioral patterns and workplace experiences. By doing so, we can uncover key insights about mental health awareness, support accessibility, and treatment-seeking tendencies among different groups within the tech workforce."
   ]
  },
  {
   "cell_type": "code",
   "execution_count": 21,
   "id": "97e98d53",
   "metadata": {},
   "outputs": [
    {
     "data": {
      "text/html": [
       "<div>\n",
       "<style scoped>\n",
       "    .dataframe tbody tr th:only-of-type {\n",
       "        vertical-align: middle;\n",
       "    }\n",
       "\n",
       "    .dataframe tbody tr th {\n",
       "        vertical-align: top;\n",
       "    }\n",
       "\n",
       "    .dataframe thead th {\n",
       "        text-align: right;\n",
       "    }\n",
       "</style>\n",
       "<table border=\"1\" class=\"dataframe\">\n",
       "  <thead>\n",
       "    <tr style=\"text-align: right;\">\n",
       "      <th></th>\n",
       "      <th>Age</th>\n",
       "      <th>Gender</th>\n",
       "      <th>Country</th>\n",
       "      <th>self_employed</th>\n",
       "      <th>family_history</th>\n",
       "      <th>treatment</th>\n",
       "      <th>work_interfere</th>\n",
       "      <th>no_employees</th>\n",
       "      <th>remote_work</th>\n",
       "      <th>tech_company</th>\n",
       "      <th>benefits</th>\n",
       "      <th>care_options</th>\n",
       "      <th>wellness_program</th>\n",
       "      <th>seek_help</th>\n",
       "      <th>anonymity</th>\n",
       "      <th>leave</th>\n",
       "      <th>mental_health_consequence</th>\n",
       "      <th>phys_health_consequence</th>\n",
       "      <th>coworkers</th>\n",
       "      <th>supervisor</th>\n",
       "      <th>mental_health_interview</th>\n",
       "      <th>phys_health_interview</th>\n",
       "      <th>mental_vs_physical</th>\n",
       "      <th>obs_consequence</th>\n",
       "    </tr>\n",
       "  </thead>\n",
       "  <tbody>\n",
       "    <tr>\n",
       "      <th>0</th>\n",
       "      <td>37</td>\n",
       "      <td>Female</td>\n",
       "      <td>United States</td>\n",
       "      <td>No</td>\n",
       "      <td>No</td>\n",
       "      <td>Yes</td>\n",
       "      <td>Often</td>\n",
       "      <td>25</td>\n",
       "      <td>No</td>\n",
       "      <td>Yes</td>\n",
       "      <td>Yes</td>\n",
       "      <td>Not sure</td>\n",
       "      <td>No</td>\n",
       "      <td>Yes</td>\n",
       "      <td>Yes</td>\n",
       "      <td>Somewhat easy</td>\n",
       "      <td>No</td>\n",
       "      <td>No</td>\n",
       "      <td>Some of them</td>\n",
       "      <td>Yes</td>\n",
       "      <td>No</td>\n",
       "      <td>Maybe</td>\n",
       "      <td>Yes</td>\n",
       "      <td>No</td>\n",
       "    </tr>\n",
       "    <tr>\n",
       "      <th>1</th>\n",
       "      <td>44</td>\n",
       "      <td>Male</td>\n",
       "      <td>United States</td>\n",
       "      <td>No</td>\n",
       "      <td>No</td>\n",
       "      <td>No</td>\n",
       "      <td>Rarely</td>\n",
       "      <td>1000</td>\n",
       "      <td>No</td>\n",
       "      <td>No</td>\n",
       "      <td>Don't know</td>\n",
       "      <td>No</td>\n",
       "      <td>Don't know</td>\n",
       "      <td>Don't know</td>\n",
       "      <td>Don't know</td>\n",
       "      <td>Don't know</td>\n",
       "      <td>Maybe</td>\n",
       "      <td>No</td>\n",
       "      <td>No</td>\n",
       "      <td>No</td>\n",
       "      <td>No</td>\n",
       "      <td>No</td>\n",
       "      <td>Don't know</td>\n",
       "      <td>No</td>\n",
       "    </tr>\n",
       "    <tr>\n",
       "      <th>2</th>\n",
       "      <td>32</td>\n",
       "      <td>Male</td>\n",
       "      <td>Canada</td>\n",
       "      <td>No</td>\n",
       "      <td>No</td>\n",
       "      <td>No</td>\n",
       "      <td>Rarely</td>\n",
       "      <td>25</td>\n",
       "      <td>No</td>\n",
       "      <td>Yes</td>\n",
       "      <td>No</td>\n",
       "      <td>No</td>\n",
       "      <td>No</td>\n",
       "      <td>No</td>\n",
       "      <td>Don't know</td>\n",
       "      <td>Somewhat difficult</td>\n",
       "      <td>No</td>\n",
       "      <td>No</td>\n",
       "      <td>Yes</td>\n",
       "      <td>Yes</td>\n",
       "      <td>Yes</td>\n",
       "      <td>Yes</td>\n",
       "      <td>No</td>\n",
       "      <td>No</td>\n",
       "    </tr>\n",
       "    <tr>\n",
       "      <th>3</th>\n",
       "      <td>31</td>\n",
       "      <td>Male</td>\n",
       "      <td>United Kingdom</td>\n",
       "      <td>No</td>\n",
       "      <td>Yes</td>\n",
       "      <td>Yes</td>\n",
       "      <td>Often</td>\n",
       "      <td>100</td>\n",
       "      <td>No</td>\n",
       "      <td>Yes</td>\n",
       "      <td>No</td>\n",
       "      <td>Yes</td>\n",
       "      <td>No</td>\n",
       "      <td>No</td>\n",
       "      <td>No</td>\n",
       "      <td>Somewhat difficult</td>\n",
       "      <td>Yes</td>\n",
       "      <td>Yes</td>\n",
       "      <td>Some of them</td>\n",
       "      <td>No</td>\n",
       "      <td>Maybe</td>\n",
       "      <td>Maybe</td>\n",
       "      <td>No</td>\n",
       "      <td>Yes</td>\n",
       "    </tr>\n",
       "    <tr>\n",
       "      <th>4</th>\n",
       "      <td>31</td>\n",
       "      <td>Male</td>\n",
       "      <td>United States</td>\n",
       "      <td>No</td>\n",
       "      <td>No</td>\n",
       "      <td>No</td>\n",
       "      <td>Never</td>\n",
       "      <td>500</td>\n",
       "      <td>Yes</td>\n",
       "      <td>Yes</td>\n",
       "      <td>Yes</td>\n",
       "      <td>No</td>\n",
       "      <td>Don't know</td>\n",
       "      <td>Don't know</td>\n",
       "      <td>Don't know</td>\n",
       "      <td>Don't know</td>\n",
       "      <td>No</td>\n",
       "      <td>No</td>\n",
       "      <td>Some of them</td>\n",
       "      <td>Yes</td>\n",
       "      <td>Yes</td>\n",
       "      <td>Yes</td>\n",
       "      <td>Don't know</td>\n",
       "      <td>No</td>\n",
       "    </tr>\n",
       "  </tbody>\n",
       "</table>\n",
       "</div>"
      ],
      "text/plain": [
       "   Age  Gender         Country self_employed family_history treatment  \\\n",
       "0   37  Female   United States            No             No       Yes   \n",
       "1   44    Male   United States            No             No        No   \n",
       "2   32    Male          Canada            No             No        No   \n",
       "3   31    Male  United Kingdom            No            Yes       Yes   \n",
       "4   31    Male   United States            No             No        No   \n",
       "\n",
       "  work_interfere  no_employees remote_work tech_company    benefits  \\\n",
       "0          Often            25          No          Yes         Yes   \n",
       "1         Rarely          1000          No           No  Don't know   \n",
       "2         Rarely            25          No          Yes          No   \n",
       "3          Often           100          No          Yes          No   \n",
       "4          Never           500         Yes          Yes         Yes   \n",
       "\n",
       "  care_options wellness_program   seek_help   anonymity               leave  \\\n",
       "0     Not sure               No         Yes         Yes       Somewhat easy   \n",
       "1           No       Don't know  Don't know  Don't know          Don't know   \n",
       "2           No               No          No  Don't know  Somewhat difficult   \n",
       "3          Yes               No          No          No  Somewhat difficult   \n",
       "4           No       Don't know  Don't know  Don't know          Don't know   \n",
       "\n",
       "  mental_health_consequence phys_health_consequence     coworkers supervisor  \\\n",
       "0                        No                      No  Some of them        Yes   \n",
       "1                     Maybe                      No            No         No   \n",
       "2                        No                      No           Yes        Yes   \n",
       "3                       Yes                     Yes  Some of them         No   \n",
       "4                        No                      No  Some of them        Yes   \n",
       "\n",
       "  mental_health_interview phys_health_interview mental_vs_physical  \\\n",
       "0                      No                 Maybe                Yes   \n",
       "1                      No                    No         Don't know   \n",
       "2                     Yes                   Yes                 No   \n",
       "3                   Maybe                 Maybe                 No   \n",
       "4                     Yes                   Yes         Don't know   \n",
       "\n",
       "  obs_consequence  \n",
       "0              No  \n",
       "1              No  \n",
       "2              No  \n",
       "3             Yes  \n",
       "4              No  "
      ]
     },
     "execution_count": 21,
     "metadata": {},
     "output_type": "execute_result"
    }
   ],
   "source": [
    "# Reloading the dataset\n",
    "df=pd.read_csv('cleaned_survey.csv')\n",
    "df.head()"
   ]
  },
  {
   "cell_type": "code",
   "execution_count": 22,
   "id": "f30c04d3",
   "metadata": {},
   "outputs": [
    {
     "data": {
      "text/html": [
       "<div>\n",
       "<style scoped>\n",
       "    .dataframe tbody tr th:only-of-type {\n",
       "        vertical-align: middle;\n",
       "    }\n",
       "\n",
       "    .dataframe tbody tr th {\n",
       "        vertical-align: top;\n",
       "    }\n",
       "\n",
       "    .dataframe thead th {\n",
       "        text-align: right;\n",
       "    }\n",
       "</style>\n",
       "<table border=\"1\" class=\"dataframe\">\n",
       "  <thead>\n",
       "    <tr style=\"text-align: right;\">\n",
       "      <th></th>\n",
       "      <th>Age</th>\n",
       "      <th>Gender</th>\n",
       "      <th>Country</th>\n",
       "      <th>self_employed</th>\n",
       "      <th>family_history</th>\n",
       "      <th>treatment</th>\n",
       "      <th>work_interfere</th>\n",
       "      <th>no_employees</th>\n",
       "      <th>remote_work</th>\n",
       "      <th>tech_company</th>\n",
       "      <th>benefits</th>\n",
       "      <th>care_options</th>\n",
       "      <th>wellness_program</th>\n",
       "      <th>seek_help</th>\n",
       "      <th>anonymity</th>\n",
       "      <th>leave</th>\n",
       "      <th>mental_health_consequence</th>\n",
       "      <th>phys_health_consequence</th>\n",
       "      <th>coworkers</th>\n",
       "      <th>supervisor</th>\n",
       "      <th>mental_health_interview</th>\n",
       "      <th>phys_health_interview</th>\n",
       "      <th>mental_vs_physical</th>\n",
       "      <th>obs_consequence</th>\n",
       "    </tr>\n",
       "  </thead>\n",
       "  <tbody>\n",
       "    <tr>\n",
       "      <th>0</th>\n",
       "      <td>37</td>\n",
       "      <td>Female</td>\n",
       "      <td>United States</td>\n",
       "      <td>No</td>\n",
       "      <td>No</td>\n",
       "      <td>Yes</td>\n",
       "      <td>Often</td>\n",
       "      <td>25</td>\n",
       "      <td>No</td>\n",
       "      <td>Yes</td>\n",
       "      <td>Yes</td>\n",
       "      <td>Not sure</td>\n",
       "      <td>No</td>\n",
       "      <td>Yes</td>\n",
       "      <td>Yes</td>\n",
       "      <td>Somewhat easy</td>\n",
       "      <td>No</td>\n",
       "      <td>No</td>\n",
       "      <td>Some of them</td>\n",
       "      <td>Yes</td>\n",
       "      <td>No</td>\n",
       "      <td>Maybe</td>\n",
       "      <td>Yes</td>\n",
       "      <td>No</td>\n",
       "    </tr>\n",
       "    <tr>\n",
       "      <th>2</th>\n",
       "      <td>32</td>\n",
       "      <td>Male</td>\n",
       "      <td>Canada</td>\n",
       "      <td>No</td>\n",
       "      <td>No</td>\n",
       "      <td>No</td>\n",
       "      <td>Rarely</td>\n",
       "      <td>25</td>\n",
       "      <td>No</td>\n",
       "      <td>Yes</td>\n",
       "      <td>No</td>\n",
       "      <td>No</td>\n",
       "      <td>No</td>\n",
       "      <td>No</td>\n",
       "      <td>Don't know</td>\n",
       "      <td>Somewhat difficult</td>\n",
       "      <td>No</td>\n",
       "      <td>No</td>\n",
       "      <td>Yes</td>\n",
       "      <td>Yes</td>\n",
       "      <td>Yes</td>\n",
       "      <td>Yes</td>\n",
       "      <td>No</td>\n",
       "      <td>No</td>\n",
       "    </tr>\n",
       "    <tr>\n",
       "      <th>3</th>\n",
       "      <td>31</td>\n",
       "      <td>Male</td>\n",
       "      <td>United Kingdom</td>\n",
       "      <td>No</td>\n",
       "      <td>Yes</td>\n",
       "      <td>Yes</td>\n",
       "      <td>Often</td>\n",
       "      <td>100</td>\n",
       "      <td>No</td>\n",
       "      <td>Yes</td>\n",
       "      <td>No</td>\n",
       "      <td>Yes</td>\n",
       "      <td>No</td>\n",
       "      <td>No</td>\n",
       "      <td>No</td>\n",
       "      <td>Somewhat difficult</td>\n",
       "      <td>Yes</td>\n",
       "      <td>Yes</td>\n",
       "      <td>Some of them</td>\n",
       "      <td>No</td>\n",
       "      <td>Maybe</td>\n",
       "      <td>Maybe</td>\n",
       "      <td>No</td>\n",
       "      <td>Yes</td>\n",
       "    </tr>\n",
       "    <tr>\n",
       "      <th>4</th>\n",
       "      <td>31</td>\n",
       "      <td>Male</td>\n",
       "      <td>United States</td>\n",
       "      <td>No</td>\n",
       "      <td>No</td>\n",
       "      <td>No</td>\n",
       "      <td>Never</td>\n",
       "      <td>500</td>\n",
       "      <td>Yes</td>\n",
       "      <td>Yes</td>\n",
       "      <td>Yes</td>\n",
       "      <td>No</td>\n",
       "      <td>Don't know</td>\n",
       "      <td>Don't know</td>\n",
       "      <td>Don't know</td>\n",
       "      <td>Don't know</td>\n",
       "      <td>No</td>\n",
       "      <td>No</td>\n",
       "      <td>Some of them</td>\n",
       "      <td>Yes</td>\n",
       "      <td>Yes</td>\n",
       "      <td>Yes</td>\n",
       "      <td>Don't know</td>\n",
       "      <td>No</td>\n",
       "    </tr>\n",
       "    <tr>\n",
       "      <th>5</th>\n",
       "      <td>33</td>\n",
       "      <td>Male</td>\n",
       "      <td>United States</td>\n",
       "      <td>No</td>\n",
       "      <td>Yes</td>\n",
       "      <td>No</td>\n",
       "      <td>Sometimes</td>\n",
       "      <td>25</td>\n",
       "      <td>No</td>\n",
       "      <td>Yes</td>\n",
       "      <td>Yes</td>\n",
       "      <td>Not sure</td>\n",
       "      <td>No</td>\n",
       "      <td>Don't know</td>\n",
       "      <td>Don't know</td>\n",
       "      <td>Don't know</td>\n",
       "      <td>No</td>\n",
       "      <td>No</td>\n",
       "      <td>Yes</td>\n",
       "      <td>Yes</td>\n",
       "      <td>No</td>\n",
       "      <td>Maybe</td>\n",
       "      <td>Don't know</td>\n",
       "      <td>No</td>\n",
       "    </tr>\n",
       "  </tbody>\n",
       "</table>\n",
       "</div>"
      ],
      "text/plain": [
       "   Age  Gender         Country self_employed family_history treatment  \\\n",
       "0   37  Female   United States            No             No       Yes   \n",
       "2   32    Male          Canada            No             No        No   \n",
       "3   31    Male  United Kingdom            No            Yes       Yes   \n",
       "4   31    Male   United States            No             No        No   \n",
       "5   33    Male   United States            No            Yes        No   \n",
       "\n",
       "  work_interfere  no_employees remote_work tech_company benefits care_options  \\\n",
       "0          Often            25          No          Yes      Yes     Not sure   \n",
       "2         Rarely            25          No          Yes       No           No   \n",
       "3          Often           100          No          Yes       No          Yes   \n",
       "4          Never           500         Yes          Yes      Yes           No   \n",
       "5      Sometimes            25          No          Yes      Yes     Not sure   \n",
       "\n",
       "  wellness_program   seek_help   anonymity               leave  \\\n",
       "0               No         Yes         Yes       Somewhat easy   \n",
       "2               No          No  Don't know  Somewhat difficult   \n",
       "3               No          No          No  Somewhat difficult   \n",
       "4       Don't know  Don't know  Don't know          Don't know   \n",
       "5               No  Don't know  Don't know          Don't know   \n",
       "\n",
       "  mental_health_consequence phys_health_consequence     coworkers supervisor  \\\n",
       "0                        No                      No  Some of them        Yes   \n",
       "2                        No                      No           Yes        Yes   \n",
       "3                       Yes                     Yes  Some of them         No   \n",
       "4                        No                      No  Some of them        Yes   \n",
       "5                        No                      No           Yes        Yes   \n",
       "\n",
       "  mental_health_interview phys_health_interview mental_vs_physical  \\\n",
       "0                      No                 Maybe                Yes   \n",
       "2                     Yes                   Yes                 No   \n",
       "3                   Maybe                 Maybe                 No   \n",
       "4                     Yes                   Yes         Don't know   \n",
       "5                      No                 Maybe         Don't know   \n",
       "\n",
       "  obs_consequence  \n",
       "0              No  \n",
       "2              No  \n",
       "3             Yes  \n",
       "4              No  \n",
       "5              No  "
      ]
     },
     "execution_count": 22,
     "metadata": {},
     "output_type": "execute_result"
    }
   ],
   "source": [
    "# Filtering the workers in tech roles\n",
    "tech_df=df[df['tech_company']=='Yes']\n",
    "tech_df.head()"
   ]
  },
  {
   "cell_type": "code",
   "execution_count": 23,
   "id": "f701ac35",
   "metadata": {},
   "outputs": [
    {
     "data": {
      "text/html": [
       "<div>\n",
       "<style scoped>\n",
       "    .dataframe tbody tr th:only-of-type {\n",
       "        vertical-align: middle;\n",
       "    }\n",
       "\n",
       "    .dataframe tbody tr th {\n",
       "        vertical-align: top;\n",
       "    }\n",
       "\n",
       "    .dataframe thead th {\n",
       "        text-align: right;\n",
       "    }\n",
       "</style>\n",
       "<table border=\"1\" class=\"dataframe\">\n",
       "  <thead>\n",
       "    <tr style=\"text-align: right;\">\n",
       "      <th></th>\n",
       "      <th>mental_support</th>\n",
       "      <th>openness</th>\n",
       "      <th>mental_exp</th>\n",
       "    </tr>\n",
       "  </thead>\n",
       "  <tbody>\n",
       "    <tr>\n",
       "      <th>0</th>\n",
       "      <td>5.0</td>\n",
       "      <td>1.5</td>\n",
       "      <td>2.5</td>\n",
       "    </tr>\n",
       "    <tr>\n",
       "      <th>2</th>\n",
       "      <td>1.0</td>\n",
       "      <td>3.0</td>\n",
       "      <td>1.0</td>\n",
       "    </tr>\n",
       "    <tr>\n",
       "      <th>3</th>\n",
       "      <td>1.5</td>\n",
       "      <td>1.0</td>\n",
       "      <td>5.5</td>\n",
       "    </tr>\n",
       "    <tr>\n",
       "      <th>4</th>\n",
       "      <td>4.0</td>\n",
       "      <td>2.5</td>\n",
       "      <td>0.0</td>\n",
       "    </tr>\n",
       "    <tr>\n",
       "      <th>5</th>\n",
       "      <td>3.0</td>\n",
       "      <td>2.0</td>\n",
       "      <td>1.5</td>\n",
       "    </tr>\n",
       "  </tbody>\n",
       "</table>\n",
       "</div>"
      ],
      "text/plain": [
       "   mental_support  openness  mental_exp\n",
       "0             5.0       1.5         2.5\n",
       "2             1.0       3.0         1.0\n",
       "3             1.5       1.0         5.5\n",
       "4             4.0       2.5         0.0\n",
       "5             3.0       2.0         1.5"
      ]
     },
     "execution_count": 23,
     "metadata": {},
     "output_type": "execute_result"
    }
   ],
   "source": [
    "X_tech=pd.DataFrame()\n",
    "X_tech['mental_support']=tech_df.apply(mental_support,axis=1)\n",
    "X_tech[\"openness\"]=tech_df.apply(openness,axis=1)\n",
    "X_tech[\"mental_exp\"]=tech_df.apply(experience,axis=1)\n",
    "X_tech.head()"
   ]
  },
  {
   "cell_type": "markdown",
   "id": "e7be46f8",
   "metadata": {},
   "source": [
    "## Preprocessing: Standard Scaler"
   ]
  },
  {
   "cell_type": "code",
   "execution_count": 24,
   "id": "4d223a56",
   "metadata": {},
   "outputs": [],
   "source": [
    "scaler_tech=StandardScaler()\n",
    "X_scaled_tech= scaler_tech.fit_transform(X_tech)"
   ]
  },
  {
   "cell_type": "markdown",
   "id": "69bb217c",
   "metadata": {},
   "source": [
    "## Making clusters and analysing them"
   ]
  },
  {
   "cell_type": "code",
   "execution_count": 25,
   "id": "17bbbb6a",
   "metadata": {},
   "outputs": [],
   "source": [
    "tsne_tech=TSNE(n_components=2,perplexity=45,random_state=42)\n",
    "\n",
    "X_reduced_tech=tsne_tech.fit_transform(X_scaled_tech)"
   ]
  },
  {
   "cell_type": "code",
   "execution_count": 26,
   "id": "25945ef6",
   "metadata": {},
   "outputs": [
    {
     "data": {
      "image/png": "[encoded data removed]",
      "text/plain": [
       "<Figure size 1800x700 with 3 Axes>"
      ]
     },
     "metadata": {},
     "output_type": "display_data"
    }
   ],
   "source": [
    "# Plotting silhouette scores to get best clusters\n",
    "\n",
    "# KMeans Clustering\n",
    "sil_score_kmean=[]\n",
    "for i in range(2,11):\n",
    "    model=KMeans(n_clusters=i,random_state=42)\n",
    "    label=model.fit_predict(X_scaled_tech)\n",
    "    sil=silhouette_score(X_scaled_tech,label)\n",
    "    sil_score_kmean.append(sil)\n",
    "\n",
    "# Agglomerative Clustering\n",
    "sil_score_agg=[]\n",
    "for i in range(2,11):\n",
    "    model=AgglomerativeClustering(n_clusters=i,linkage='ward')\n",
    "    label=model.fit_predict(X_scaled_tech)\n",
    "    sil=silhouette_score(X_scaled_tech,label)\n",
    "    sil_score_agg.append(sil)\n",
    "\n",
    "# DBSCAN Clustering\n",
    "sil_score_dbscan=[]\n",
    "range_=np.arange(0.1,1.6,0.1)\n",
    "for i in range_:\n",
    "    model=DBSCAN(eps=i,min_samples=5)\n",
    "    label=model.fit_predict(X_scaled_tech)\n",
    "\n",
    "    # Skip silhouette scoring if only one label or noise\n",
    "    unique_label=set(label)\n",
    "    if len(unique_label - {-1}) >= 2:  # at least 2 clusters, ignoring noise\n",
    "        sil = silhouette_score(X_scaled_tech, label)\n",
    "    else:\n",
    "        sil = -1  # Invalid case\n",
    "    sil_score_dbscan.append(sil)\n",
    "\n",
    "# Plotting the graphs \n",
    "plt.figure(figsize=(18,7))\n",
    "sns.set_theme(style=\"darkgrid\")\n",
    "plt.suptitle(\"Silhouette Scores vs Clusters\")\n",
    "plt.subplot(1,3,1)\n",
    "sns.lineplot(x=range(2,11),y=sil_score_kmean,markers='o',color='red')\n",
    "plt.xlabel('No. of clusters')\n",
    "plt.ylabel('Silhouette Scores')\n",
    "plt.title(\"KMeans\")\n",
    "plt.subplot(1,3,2)\n",
    "sns.lineplot(x=range(2,11),y=sil_score_agg,markers='o',color='green')\n",
    "plt.xlabel('No. of clusters')\n",
    "plt.ylabel('Silhouette Scores')\n",
    "plt.title(\"Agglomerative\")\n",
    "plt.subplot(1,3,3)\n",
    "sns.lineplot(x=range_,y=sil_score_dbscan,markers='o',color='orange')\n",
    "plt.xlabel('Epsilon Value')\n",
    "plt.ylabel('Silhouette Scores')\n",
    "plt.title(\"DBSCAN\")\n",
    "\n",
    "plt.show()"
   ]
  },
  {
   "cell_type": "markdown",
   "id": "555830c9",
   "metadata": {},
   "source": [
    "### From above, I am considering KMeans Clustering with cluster 3 for clustering and analysis"
   ]
  },
  {
   "cell_type": "code",
   "execution_count": 27,
   "id": "073d9978",
   "metadata": {},
   "outputs": [],
   "source": [
    "# Kmeans cluster with 3 clusters\n",
    "Kmeans_3_clustering=KMeans(n_clusters=3,random_state=42)\n",
    "cluster_labels_3=Kmeans_3_clustering.fit_predict(X_scaled_tech)"
   ]
  },
  {
   "cell_type": "code",
   "execution_count": 28,
   "id": "2bc44c8d",
   "metadata": {},
   "outputs": [
    {
     "data": {
      "image/png": "[encoded data removed]",
      "text/plain": [
       "<Figure size 640x480 with 1 Axes>"
      ]
     },
     "metadata": {},
     "output_type": "display_data"
    }
   ],
   "source": [
    "sns.set_theme(style='darkgrid')\n",
    "sns.scatterplot(x=X_reduced_tech[:,0],y=X_reduced_tech[:,1],hue=cluster_labels_3,palette='tab10')\n",
    "plt.title('3 Cluster Kmeans')\n",
    "plt.show()"
   ]
  },
  {
   "cell_type": "markdown",
   "id": "801c34f2",
   "metadata": {},
   "source": [
    "### KMeans Clustering of Tech Workers (t-SNE Reduced Features)\n",
    "- **Left Plot (3 Clusters)**: This plot segments the data into three disparate behavioral or demographic clusters, which reveal higher level tendencies such as more likely providers, lonely persons, or adequately cared individuals. "
   ]
  },
  {
   "cell_type": "markdown",
   "id": "45b74a47",
   "metadata": {},
   "source": [
    "# KMeans Three Cluster Insights "
   ]
  },
  {
   "cell_type": "code",
   "execution_count": 29,
   "metadata": {},
   "outputs": [
    {
     "data": {
      "text/html": [
       "<div>\n",
       "<style scoped>\n",
       "    .dataframe tbody tr th:only-of-type {\n",
       "        vertical-align: middle;\n",
       "    }\n",
       "\n",
       "    .dataframe tbody tr th {\n",
       "        vertical-align: top;\n",
       "    }\n",
       "\n",
       "    .dataframe thead th {\n",
       "        text-align: right;\n",
       "    }\n",
       "</style>\n",
       "<table border=\"1\" class=\"dataframe\">\n",
       "  <thead>\n",
       "    <tr style=\"text-align: right;\">\n",
       "      <th></th>\n",
       "      <th>mental_support</th>\n",
       "      <th>openness</th>\n",
       "      <th>mental_exp</th>\n",
       "      <th>treatment</th>\n",
       "      <th>3 Cluster</th>\n",
       "    </tr>\n",
       "  </thead>\n",
       "  <tbody>\n",
       "    <tr>\n",
       "      <th>0</th>\n",
       "      <td>5.0</td>\n",
       "      <td>1.5</td>\n",
       "      <td>2.5</td>\n",
       "      <td>Yes</td>\n",
       "      <td>1</td>\n",
       "    </tr>\n",
       "    <tr>\n",
       "      <th>2</th>\n",
       "      <td>1.0</td>\n",
       "      <td>3.0</td>\n",
       "      <td>1.0</td>\n",
       "      <td>No</td>\n",
       "      <td>2</td>\n",
       "    </tr>\n",
       "    <tr>\n",
       "      <th>3</th>\n",
       "      <td>1.5</td>\n",
       "      <td>1.0</td>\n",
       "      <td>5.5</td>\n",
       "      <td>Yes</td>\n",
       "      <td>0</td>\n",
       "    </tr>\n",
       "    <tr>\n",
       "      <th>4</th>\n",
       "      <td>4.0</td>\n",
       "      <td>2.5</td>\n",
       "      <td>0.0</td>\n",
       "      <td>No</td>\n",
       "      <td>2</td>\n",
       "    </tr>\n",
       "    <tr>\n",
       "      <th>5</th>\n",
       "      <td>3.0</td>\n",
       "      <td>2.0</td>\n",
       "      <td>1.5</td>\n",
       "      <td>No</td>\n",
       "      <td>2</td>\n",
       "    </tr>\n",
       "  </tbody>\n",
       "</table>\n",
       "</div>"
      ],
      "text/plain": [
       "   mental_support  openness  mental_exp treatment  3 Cluster\n",
       "0             5.0       1.5         2.5       Yes          1\n",
       "2             1.0       3.0         1.0        No          2\n",
       "3             1.5       1.0         5.5       Yes          0\n",
       "4             4.0       2.5         0.0        No          2\n",
       "5             3.0       2.0         1.5        No          2"
      ]
     },
     "execution_count": 29,
     "metadata": {},
     "output_type": "execute_result"
    }
   ],
   "source": [
    "# Creating a dataframe for analysisng and deriving insights\n",
    "X_kmeans=pd.DataFrame(X_tech)\n",
    "X_kmeans['treatment']=tech_df['treatment']\n",
    "X_kmeans['3 Cluster']=cluster_labels_3\n",
    "X_kmeans.head()"
   ]
  },
  {
   "cell_type": "code",
   "execution_count": 30,
   "id": "27d6a6e7",
   "metadata": {},
   "outputs": [
    {
     "data": {
      "text/html": [
       "<div>\n",
       "<style scoped>\n",
       "    .dataframe tbody tr th:only-of-type {\n",
       "        vertical-align: middle;\n",
       "    }\n",
       "\n",
       "    .dataframe tbody tr th {\n",
       "        vertical-align: top;\n",
       "    }\n",
       "\n",
       "    .dataframe thead tr th {\n",
       "        text-align: left;\n",
       "    }\n",
       "\n",
       "    .dataframe thead tr:last-of-type th {\n",
       "        text-align: right;\n",
       "    }\n",
       "</style>\n",
       "<table border=\"1\" class=\"dataframe\">\n",
       "  <thead>\n",
       "    <tr>\n",
       "      <th></th>\n",
       "      <th colspan=\"8\" halign=\"left\">mental_support</th>\n",
       "      <th colspan=\"8\" halign=\"left\">mental_exp</th>\n",
       "      <th colspan=\"8\" halign=\"left\">openness</th>\n",
       "    </tr>\n",
       "    <tr>\n",
       "      <th></th>\n",
       "      <th>count</th>\n",
       "      <th>mean</th>\n",
       "      <th>std</th>\n",
       "      <th>min</th>\n",
       "      <th>25%</th>\n",
       "      <th>50%</th>\n",
       "      <th>75%</th>\n",
       "      <th>max</th>\n",
       "      <th>count</th>\n",
       "      <th>mean</th>\n",
       "      <th>std</th>\n",
       "      <th>min</th>\n",
       "      <th>25%</th>\n",
       "      <th>50%</th>\n",
       "      <th>75%</th>\n",
       "      <th>max</th>\n",
       "      <th>count</th>\n",
       "      <th>mean</th>\n",
       "      <th>std</th>\n",
       "      <th>min</th>\n",
       "      <th>25%</th>\n",
       "      <th>50%</th>\n",
       "      <th>75%</th>\n",
       "      <th>max</th>\n",
       "    </tr>\n",
       "    <tr>\n",
       "      <th>3 Cluster</th>\n",
       "      <th></th>\n",
       "      <th></th>\n",
       "      <th></th>\n",
       "      <th></th>\n",
       "      <th></th>\n",
       "      <th></th>\n",
       "      <th></th>\n",
       "      <th></th>\n",
       "      <th></th>\n",
       "      <th></th>\n",
       "      <th></th>\n",
       "      <th></th>\n",
       "      <th></th>\n",
       "      <th></th>\n",
       "      <th></th>\n",
       "      <th></th>\n",
       "      <th></th>\n",
       "      <th></th>\n",
       "      <th></th>\n",
       "      <th></th>\n",
       "      <th></th>\n",
       "      <th></th>\n",
       "      <th></th>\n",
       "      <th></th>\n",
       "    </tr>\n",
       "  </thead>\n",
       "  <tbody>\n",
       "    <tr>\n",
       "      <th>0</th>\n",
       "      <td>424.0</td>\n",
       "      <td>2.847877</td>\n",
       "      <td>1.170397</td>\n",
       "      <td>0.0</td>\n",
       "      <td>2.0</td>\n",
       "      <td>3.0</td>\n",
       "      <td>3.5</td>\n",
       "      <td>6.0</td>\n",
       "      <td>424.0</td>\n",
       "      <td>2.745283</td>\n",
       "      <td>1.124087</td>\n",
       "      <td>0.5</td>\n",
       "      <td>2.0</td>\n",
       "      <td>2.5</td>\n",
       "      <td>3.5</td>\n",
       "      <td>5.5</td>\n",
       "      <td>424.0</td>\n",
       "      <td>0.567217</td>\n",
       "      <td>0.538877</td>\n",
       "      <td>0.0</td>\n",
       "      <td>0.0</td>\n",
       "      <td>0.5</td>\n",
       "      <td>1.0</td>\n",
       "      <td>2.5</td>\n",
       "    </tr>\n",
       "    <tr>\n",
       "      <th>1</th>\n",
       "      <td>237.0</td>\n",
       "      <td>5.850211</td>\n",
       "      <td>1.161590</td>\n",
       "      <td>3.5</td>\n",
       "      <td>5.0</td>\n",
       "      <td>6.0</td>\n",
       "      <td>6.5</td>\n",
       "      <td>8.0</td>\n",
       "      <td>237.0</td>\n",
       "      <td>2.291139</td>\n",
       "      <td>1.068445</td>\n",
       "      <td>0.0</td>\n",
       "      <td>1.5</td>\n",
       "      <td>2.5</td>\n",
       "      <td>3.0</td>\n",
       "      <td>5.0</td>\n",
       "      <td>237.0</td>\n",
       "      <td>1.616034</td>\n",
       "      <td>0.651137</td>\n",
       "      <td>0.0</td>\n",
       "      <td>1.0</td>\n",
       "      <td>1.5</td>\n",
       "      <td>2.0</td>\n",
       "      <td>3.0</td>\n",
       "    </tr>\n",
       "    <tr>\n",
       "      <th>2</th>\n",
       "      <td>365.0</td>\n",
       "      <td>3.272603</td>\n",
       "      <td>1.006334</td>\n",
       "      <td>0.5</td>\n",
       "      <td>2.5</td>\n",
       "      <td>3.5</td>\n",
       "      <td>4.0</td>\n",
       "      <td>5.5</td>\n",
       "      <td>365.0</td>\n",
       "      <td>0.931507</td>\n",
       "      <td>0.745477</td>\n",
       "      <td>0.0</td>\n",
       "      <td>0.5</td>\n",
       "      <td>1.0</td>\n",
       "      <td>1.5</td>\n",
       "      <td>3.5</td>\n",
       "      <td>365.0</td>\n",
       "      <td>1.606849</td>\n",
       "      <td>0.614238</td>\n",
       "      <td>0.0</td>\n",
       "      <td>1.0</td>\n",
       "      <td>1.5</td>\n",
       "      <td>2.0</td>\n",
       "      <td>3.0</td>\n",
       "    </tr>\n",
       "  </tbody>\n",
       "</table>\n",
       "</div>"
      ],
      "text/plain": [
       "          mental_support                                               \\\n",
       "                   count      mean       std  min  25%  50%  75%  max   \n",
       "3 Cluster                                                               \n",
       "0                  424.0  2.847877  1.170397  0.0  2.0  3.0  3.5  6.0   \n",
       "1                  237.0  5.850211  1.161590  3.5  5.0  6.0  6.5  8.0   \n",
       "2                  365.0  3.272603  1.006334  0.5  2.5  3.5  4.0  5.5   \n",
       "\n",
       "          mental_exp                                              openness  \\\n",
       "               count      mean       std  min  25%  50%  75%  max    count   \n",
       "3 Cluster                                                                    \n",
       "0              424.0  2.745283  1.124087  0.5  2.0  2.5  3.5  5.5    424.0   \n",
       "1              237.0  2.291139  1.068445  0.0  1.5  2.5  3.0  5.0    237.0   \n",
       "2              365.0  0.931507  0.745477  0.0  0.5  1.0  1.5  3.5    365.0   \n",
       "\n",
       "                                                        \n",
       "               mean       std  min  25%  50%  75%  max  \n",
       "3 Cluster                                               \n",
       "0          0.567217  0.538877  0.0  0.0  0.5  1.0  2.5  \n",
       "1          1.616034  0.651137  0.0  1.0  1.5  2.0  3.0  \n",
       "2          1.606849  0.614238  0.0  1.0  1.5  2.0  3.0  "
      ]
     },
     "execution_count": 30,
     "metadata": {},
     "output_type": "execute_result"
    }
   ],
   "source": [
    "X_kmeans.groupby(['3 Cluster'])[['mental_support','mental_exp','openness']].describe()"
   ]
  },
  {
   "cell_type": "code",
   "execution_count": 31,
   "id": "0e2c2ecf",
   "metadata": {},
   "outputs": [
    {
     "data": {
      "text/html": [
       "<div>\n",
       "<style scoped>\n",
       "    .dataframe tbody tr th:only-of-type {\n",
       "        vertical-align: middle;\n",
       "    }\n",
       "\n",
       "    .dataframe tbody tr th {\n",
       "        vertical-align: top;\n",
       "    }\n",
       "\n",
       "    .dataframe thead th {\n",
       "        text-align: right;\n",
       "    }\n",
       "</style>\n",
       "<table border=\"1\" class=\"dataframe\">\n",
       "  <thead>\n",
       "    <tr style=\"text-align: right;\">\n",
       "      <th>treatment</th>\n",
       "      <th>No</th>\n",
       "      <th>Yes</th>\n",
       "    </tr>\n",
       "    <tr>\n",
       "      <th>3 Cluster</th>\n",
       "      <th></th>\n",
       "      <th></th>\n",
       "    </tr>\n",
       "  </thead>\n",
       "  <tbody>\n",
       "    <tr>\n",
       "      <th>0</th>\n",
       "      <td>151</td>\n",
       "      <td>273</td>\n",
       "    </tr>\n",
       "    <tr>\n",
       "      <th>1</th>\n",
       "      <td>68</td>\n",
       "      <td>169</td>\n",
       "    </tr>\n",
       "    <tr>\n",
       "      <th>2</th>\n",
       "      <td>297</td>\n",
       "      <td>68</td>\n",
       "    </tr>\n",
       "  </tbody>\n",
       "</table>\n",
       "</div>"
      ],
      "text/plain": [
       "treatment   No  Yes\n",
       "3 Cluster          \n",
       "0          151  273\n",
       "1           68  169\n",
       "2          297   68"
      ]
     },
     "execution_count": 31,
     "metadata": {},
     "output_type": "execute_result"
    }
   ],
   "source": [
    "pd.crosstab(X_kmeans['3 Cluster'],X_kmeans['treatment'])"
   ]
  },
  {
   "cell_type": "markdown",
   "id": "28a962ec",
   "metadata": {},
   "source": [
    "## Cluster Insights:\n",
    "- **Cluster 0**: \n",
    "    * Getting low mental support and are less open in matter of discussing their mental health issue, but have high experience in mental health.\n",
    "    * Majority has taken treatment but still a large no. of employees are not taking any treatment.\n",
    "    * They are not provided mental health benefits from their organizations and are not open to discuss their problem but they have some mental experience that makes them to seek treatment.\n",
    "    > They can be titled as 'Silent Sufferes'\n",
    "\n",
    "- **Cluster 1**:\n",
    "    * Getting high mental support then other clusters and are knowledgeable about consequences about mental health issue and are open to discuss their mental health issue.\n",
    "    * Highest number of people with treatment taken and the people who didnt took any treatment possibly are not facing any mental issue and are ready to seek treatment if they needed.\n",
    "    * They are the lucky people who are getting full support from their organization and also are knowledgeable and open to discuss about there mental health issues, they are good on there own and has a very low risk of facing mental health issues.\n",
    "    > They can be titled as 'Well-Supported and Aware'\n",
    "\n",
    "- **Cluster 2**:\n",
    "    * Getting moderate mental support, have less experience in mental health and are open to discuss their mental health issues.\n",
    "    * Having the highest count of people not taking treatment , possible reason can be that the people are not actually experinecing any mental health issue but they are also do not know about about consequences about mental health problem.\n",
    "    * They are the people with highest risk of suffering any mental health issue.\n",
    "    > They can be titled as 'Ignorant Sufferers'  \n",
    "\n",
    "## Insight Summary:\n",
    "- Openness may benefit tech workers but not harm them; that is, even if someone is uncomfortable discussing a mental health issue, they will seek treatment when necessary if they receive the necessary mental support and are aware of the potential consequences.\n",
    "- Tech professionals' experiences with mental health have the biggest influence on their decision to seek treatment or not.\n",
    "- Companies' mental health support is particularly beneficial since it allows employees to open up and talk about their problems, ensures their long-term mental health, and affects their performance and commitment to the firm.\n",
    "\n",
    "## Suggestions:\n",
    "* *Cluster 0 :* \n",
    "    * They requires supervisors and counsellors to facilitate open discussions about mental health issues. \n",
    "    * Companies should offer them with the necessary resources and facilities for their mental health, and this will result in a significant increase in their performance.\n",
    "* *Cluster 1:*\n",
    "    * They are good on their own and can serve as mental health ambassadors to educate their colleagues on the importance of mental health and its implications.\n",
    "    * It would help to create a healthy work atmosphere among company members because workers may simply disclose their mental health issues with their coworkers.\n",
    "    * It don't only help in improving the mental health of employees but also create a culture of healthy friendships among people and create a workplace where everyone are a part of family and comfortable with one another.\n",
    "* *Cluster 2:*\n",
    "    * Urgent need for counsellors and initiatives to raise awareness about mental health consequences. \n",
    "    * The company should offer comprehensive mental health support. \n",
    "    * Even if facilities are not available, they should be aware of the potential mental health repercussions and address any issues that arise. \n",
    "    * They must inform them about the symptoms of mental health concerns.\n",
    "\n"
   ]
  },
  {
   "cell_type": "code",
   "execution_count": 32,
   "id": "376a80c0",
   "metadata": {},
   "outputs": [
    {
     "data": {
      "application/vnd.plotly.v1+json": {
       "config": {
        "plotlyServerURL": "https://plot.ly"
       },
       "data": [
        {
         "customdata": [
          [
           "Yes"
          ],
          [
           "No"
          ],
          [
           "Yes"
          ],
          [
           "Yes"
          ],
          [
           "Yes"
          ],
          [
           "Yes"
          ],
          [
           "Yes"
          ],
          [
           "Yes"
          ],
          [
           "No"
          ],
          [
           "Yes"
          ],
          [
           "No"
          ],
          [
           "No"
          ],
          [
           "Yes"
          ],
          [
           "No"
          ],
          [
           "Yes"
          ],
          [
           "Yes"
          ],
          [
           "Yes"
          ],
          [
           "Yes"
          ],
          [
           "Yes"
          ],
          [
           "Yes"
          ],
          [
           "Yes"
          ],
          [
           "No"
          ],
          [
           "Yes"
          ],
          [
           "Yes"
          ],
          [
           "No"
          ],
          [
           "Yes"
          ],
          [
           "No"
          ],
          [
           "Yes"
          ],
          [
           "Yes"
          ],
          [
           "No"
          ],
          [
           "Yes"
          ],
          [
           "No"
          ],
          [
           "Yes"
          ],
          [
           "No"
          ],
          [
           "Yes"
          ],
          [
           "No"
          ],
          [
           "Yes"
          ],
          [
           "No"
          ],
          [
           "No"
          ],
          [
           "Yes"
          ],
          [
           "Yes"
          ],
          [
           "Yes"
          ],
          [
           "Yes"
          ],
          [
           "No"
          ],
          [
           "Yes"
          ],
          [
           "Yes"
          ],
          [
           "Yes"
          ],
          [
           "Yes"
          ],
          [
           "Yes"
          ],
          [
           "No"
          ],
          [
           "Yes"
          ],
          [
           "Yes"
          ],
          [
           "Yes"
          ],
          [
           "No"
          ],
          [
           "Yes"
          ],
          [
           "Yes"
          ],
          [
           "Yes"
          ],
          [
           "No"
          ],
          [
           "Yes"
          ],
          [
           "No"
          ],
          [
           "No"
          ],
          [
           "Yes"
          ],
          [
           "Yes"
          ],
          [
           "Yes"
          ],
          [
           "Yes"
          ],
          [
           "No"
          ],
          [
           "No"
          ],
          [
           "Yes"
          ],
          [
           "No"
          ],
          [
           "Yes"
          ],
          [
           "Yes"
          ],
          [
           "Yes"
          ],
          [
           "Yes"
          ],
          [
           "Yes"
          ],
          [
           "Yes"
          ],
          [
           "Yes"
          ],
          [
           "No"
          ],
          [
           "Yes"
          ],
          [
           "Yes"
          ],
          [
           "Yes"
          ],
          [
           "No"
          ],
          [
           "Yes"
          ],
          [
           "Yes"
          ],
          [
           "Yes"
          ],
          [
           "Yes"
          ],
          [
           "Yes"
          ],
          [
           "No"
          ],
          [
           "No"
          ],
          [
           "Yes"
          ],
          [
           "Yes"
          ],
          [
           "Yes"
          ],
          [
           "Yes"
          ],
          [
           "Yes"
          ],
          [
           "Yes"
          ],
          [
           "Yes"
          ],
          [
           "Yes"
          ],
          [
           "Yes"
          ],
          [
           "No"
          ],
          [
           "Yes"
          ],
          [
           "Yes"
          ],
          [
           "Yes"
          ],
          [
           "No"
          ],
          [
           "Yes"
          ],
          [
           "Yes"
          ],
          [
           "No"
          ],
          [
           "Yes"
          ],
          [
           "Yes"
          ],
          [
           "Yes"
          ],
          [
           "Yes"
          ],
          [
           "Yes"
          ],
          [
           "No"
          ],
          [
           "Yes"
          ],
          [
           "No"
          ],
          [
           "Yes"
          ],
          [
           "Yes"
          ],
          [
           "Yes"
          ],
          [
           "Yes"
          ],
          [
           "No"
          ],
          [
           "No"
          ],
          [
           "No"
          ],
          [
           "No"
          ],
          [
           "Yes"
          ],
          [
           "Yes"
          ],
          [
           "Yes"
          ],
          [
           "Yes"
          ],
          [
           "No"
          ],
          [
           "Yes"
          ],
          [
           "Yes"
          ],
          [
           "No"
          ],
          [
           "No"
          ],
          [
           "Yes"
          ],
          [
           "Yes"
          ],
          [
           "Yes"
          ],
          [
           "Yes"
          ],
          [
           "Yes"
          ],
          [
           "Yes"
          ],
          [
           "Yes"
          ],
          [
           "No"
          ],
          [
           "No"
          ],
          [
           "Yes"
          ],
          [
           "Yes"
          ],
          [
           "Yes"
          ],
          [
           "No"
          ],
          [
           "No"
          ],
          [
           "No"
          ],
          [
           "Yes"
          ],
          [
           "Yes"
          ],
          [
           "Yes"
          ],
          [
           "Yes"
          ],
          [
           "Yes"
          ],
          [
           "Yes"
          ],
          [
           "Yes"
          ],
          [
           "No"
          ],
          [
           "No"
          ],
          [
           "Yes"
          ],
          [
           "Yes"
          ],
          [
           "Yes"
          ],
          [
           "Yes"
          ],
          [
           "Yes"
          ],
          [
           "Yes"
          ],
          [
           "No"
          ],
          [
           "Yes"
          ],
          [
           "No"
          ],
          [
           "No"
          ],
          [
           "No"
          ],
          [
           "Yes"
          ],
          [
           "Yes"
          ],
          [
           "No"
          ],
          [
           "No"
          ],
          [
           "No"
          ],
          [
           "No"
          ],
          [
           "Yes"
          ],
          [
           "Yes"
          ],
          [
           "Yes"
          ],
          [
           "Yes"
          ],
          [
           "No"
          ],
          [
           "No"
          ],
          [
           "No"
          ],
          [
           "No"
          ],
          [
           "Yes"
          ],
          [
           "Yes"
          ],
          [
           "Yes"
          ],
          [
           "Yes"
          ],
          [
           "Yes"
          ],
          [
           "No"
          ],
          [
           "Yes"
          ],
          [
           "Yes"
          ],
          [
           "Yes"
          ],
          [
           "Yes"
          ],
          [
           "Yes"
          ],
          [
           "Yes"
          ],
          [
           "Yes"
          ],
          [
           "No"
          ],
          [
           "No"
          ],
          [
           "Yes"
          ],
          [
           "Yes"
          ],
          [
           "Yes"
          ],
          [
           "Yes"
          ],
          [
           "Yes"
          ],
          [
           "Yes"
          ],
          [
           "No"
          ],
          [
           "No"
          ],
          [
           "No"
          ],
          [
           "Yes"
          ],
          [
           "Yes"
          ],
          [
           "Yes"
          ],
          [
           "Yes"
          ],
          [
           "No"
          ],
          [
           "Yes"
          ],
          [
           "Yes"
          ],
          [
           "Yes"
          ],
          [
           "Yes"
          ],
          [
           "Yes"
          ],
          [
           "Yes"
          ],
          [
           "Yes"
          ],
          [
           "Yes"
          ],
          [
           "Yes"
          ],
          [
           "Yes"
          ],
          [
           "Yes"
          ],
          [
           "Yes"
          ],
          [
           "Yes"
          ],
          [
           "Yes"
          ],
          [
           "Yes"
          ],
          [
           "No"
          ],
          [
           "Yes"
          ],
          [
           "Yes"
          ],
          [
           "No"
          ],
          [
           "Yes"
          ],
          [
           "Yes"
          ],
          [
           "Yes"
          ],
          [
           "No"
          ],
          [
           "Yes"
          ],
          [
           "Yes"
          ],
          [
           "Yes"
          ],
          [
           "Yes"
          ],
          [
           "Yes"
          ],
          [
           "Yes"
          ]
         ],
         "hovertemplate": "Kmeans_tags=Well-Supported and Aware<br>mental_support=%{x}<br>openness=%{y}<br>mental_exp=%{z}<br>treatment=%{customdata[0]}<extra></extra>",
         "legendgroup": "Well-Supported and Aware",
         "marker": {
          "color": "#636EFA",
          "opacity": 0.7,
          "size": 5,
          "symbol": "circle"
         },
         "mode": "markers",
         "name": "Well-Supported and Aware",
         "scene": "scene",
         "showlegend": true,
         "type": "scatter3d",
         "x": {
          "bdata": "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",
          "dtype": "f8"
         },
         "y": {
          "bdata": "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",
          "dtype": "f8"
         },
         "z": {
          "bdata": "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",
          "dtype": "f8"
         }
        },
        {
         "customdata": [
          [
           "No"
          ],
          [
           "No"
          ],
          [
           "No"
          ],
          [
           "No"
          ],
          [
           "Yes"
          ],
          [
           "No"
          ],
          [
           "Yes"
          ],
          [
           "No"
          ],
          [
           "No"
          ],
          [
           "No"
          ],
          [
           "Yes"
          ],
          [
           "Yes"
          ],
          [
           "No"
          ],
          [
           "No"
          ],
          [
           "No"
          ],
          [
           "Yes"
          ],
          [
           "No"
          ],
          [
           "No"
          ],
          [
           "No"
          ],
          [
           "No"
          ],
          [
           "No"
          ],
          [
           "No"
          ],
          [
           "No"
          ],
          [
           "No"
          ],
          [
           "No"
          ],
          [
           "Yes"
          ],
          [
           "No"
          ],
          [
           "No"
          ],
          [
           "No"
          ],
          [
           "No"
          ],
          [
           "No"
          ],
          [
           "No"
          ],
          [
           "No"
          ],
          [
           "No"
          ],
          [
           "No"
          ],
          [
           "No"
          ],
          [
           "No"
          ],
          [
           "No"
          ],
          [
           "No"
          ],
          [
           "Yes"
          ],
          [
           "No"
          ],
          [
           "No"
          ],
          [
           "Yes"
          ],
          [
           "No"
          ],
          [
           "No"
          ],
          [
           "No"
          ],
          [
           "No"
          ],
          [
           "No"
          ],
          [
           "No"
          ],
          [
           "No"
          ],
          [
           "No"
          ],
          [
           "No"
          ],
          [
           "No"
          ],
          [
           "No"
          ],
          [
           "No"
          ],
          [
           "Yes"
          ],
          [
           "No"
          ],
          [
           "Yes"
          ],
          [
           "No"
          ],
          [
           "No"
          ],
          [
           "No"
          ],
          [
           "No"
          ],
          [
           "No"
          ],
          [
           "No"
          ],
          [
           "No"
          ],
          [
           "No"
          ],
          [
           "No"
          ],
          [
           "No"
          ],
          [
           "No"
          ],
          [
           "No"
          ],
          [
           "Yes"
          ],
          [
           "No"
          ],
          [
           "No"
          ],
          [
           "No"
          ],
          [
           "No"
          ],
          [
           "No"
          ],
          [
           "No"
          ],
          [
           "No"
          ],
          [
           "Yes"
          ],
          [
           "No"
          ],
          [
           "No"
          ],
          [
           "No"
          ],
          [
           "Yes"
          ],
          [
           "No"
          ],
          [
           "No"
          ],
          [
           "No"
          ],
          [
           "No"
          ],
          [
           "No"
          ],
          [
           "No"
          ],
          [
           "No"
          ],
          [
           "No"
          ],
          [
           "No"
          ],
          [
           "No"
          ],
          [
           "No"
          ],
          [
           "No"
          ],
          [
           "Yes"
          ],
          [
           "No"
          ],
          [
           "No"
          ],
          [
           "No"
          ],
          [
           "No"
          ],
          [
           "No"
          ],
          [
           "No"
          ],
          [
           "No"
          ],
          [
           "No"
          ],
          [
           "No"
          ],
          [
           "No"
          ],
          [
           "No"
          ],
          [
           "No"
          ],
          [
           "No"
          ],
          [
           "Yes"
          ],
          [
           "No"
          ],
          [
           "No"
          ],
          [
           "No"
          ],
          [
           "No"
          ],
          [
           "No"
          ],
          [
           "Yes"
          ],
          [
           "Yes"
          ],
          [
           "No"
          ],
          [
           "No"
          ],
          [
           "No"
          ],
          [
           "No"
          ],
          [
           "No"
          ],
          [
           "No"
          ],
          [
           "No"
          ],
          [
           "No"
          ],
          [
           "No"
          ],
          [
           "No"
          ],
          [
           "Yes"
          ],
          [
           "Yes"
          ],
          [
           "Yes"
          ],
          [
           "No"
          ],
          [
           "No"
          ],
          [
           "No"
          ],
          [
           "No"
          ],
          [
           "No"
          ],
          [
           "No"
          ],
          [
           "Yes"
          ],
          [
           "Yes"
          ],
          [
           "No"
          ],
          [
           "No"
          ],
          [
           "No"
          ],
          [
           "No"
          ],
          [
           "No"
          ],
          [
           "No"
          ],
          [
           "No"
          ],
          [
           "No"
          ],
          [
           "No"
          ],
          [
           "No"
          ],
          [
           "No"
          ],
          [
           "No"
          ],
          [
           "No"
          ],
          [
           "No"
          ],
          [
           "Yes"
          ],
          [
           "No"
          ],
          [
           "No"
          ],
          [
           "No"
          ],
          [
           "No"
          ],
          [
           "No"
          ],
          [
           "No"
          ],
          [
           "No"
          ],
          [
           "No"
          ],
          [
           "Yes"
          ],
          [
           "No"
          ],
          [
           "No"
          ],
          [
           "No"
          ],
          [
           "No"
          ],
          [
           "No"
          ],
          [
           "No"
          ],
          [
           "No"
          ],
          [
           "No"
          ],
          [
           "Yes"
          ],
          [
           "No"
          ],
          [
           "No"
          ],
          [
           "No"
          ],
          [
           "Yes"
          ],
          [
           "No"
          ],
          [
           "No"
          ],
          [
           "No"
          ],
          [
           "No"
          ],
          [
           "No"
          ],
          [
           "No"
          ],
          [
           "No"
          ],
          [
           "No"
          ],
          [
           "Yes"
          ],
          [
           "Yes"
          ],
          [
           "No"
          ],
          [
           "No"
          ],
          [
           "No"
          ],
          [
           "No"
          ],
          [
           "No"
          ],
          [
           "Yes"
          ],
          [
           "Yes"
          ],
          [
           "No"
          ],
          [
           "No"
          ],
          [
           "No"
          ],
          [
           "No"
          ],
          [
           "No"
          ],
          [
           "Yes"
          ],
          [
           "No"
          ],
          [
           "No"
          ],
          [
           "No"
          ],
          [
           "No"
          ],
          [
           "No"
          ],
          [
           "No"
          ],
          [
           "No"
          ],
          [
           "No"
          ],
          [
           "No"
          ],
          [
           "No"
          ],
          [
           "No"
          ],
          [
           "No"
          ],
          [
           "No"
          ],
          [
           "No"
          ],
          [
           "No"
          ],
          [
           "No"
          ],
          [
           "No"
          ],
          [
           "No"
          ],
          [
           "No"
          ],
          [
           "Yes"
          ],
          [
           "No"
          ],
          [
           "No"
          ],
          [
           "No"
          ],
          [
           "No"
          ],
          [
           "No"
          ],
          [
           "No"
          ],
          [
           "No"
          ],
          [
           "No"
          ],
          [
           "No"
          ],
          [
           "No"
          ],
          [
           "Yes"
          ],
          [
           "No"
          ],
          [
           "No"
          ],
          [
           "No"
          ],
          [
           "Yes"
          ],
          [
           "Yes"
          ],
          [
           "No"
          ],
          [
           "No"
          ],
          [
           "Yes"
          ],
          [
           "No"
          ],
          [
           "No"
          ],
          [
           "Yes"
          ],
          [
           "No"
          ],
          [
           "No"
          ],
          [
           "Yes"
          ],
          [
           "No"
          ],
          [
           "No"
          ],
          [
           "No"
          ],
          [
           "Yes"
          ],
          [
           "Yes"
          ],
          [
           "No"
          ],
          [
           "No"
          ],
          [
           "No"
          ],
          [
           "No"
          ],
          [
           "No"
          ],
          [
           "No"
          ],
          [
           "No"
          ],
          [
           "No"
          ],
          [
           "No"
          ],
          [
           "No"
          ],
          [
           "Yes"
          ],
          [
           "No"
          ],
          [
           "No"
          ],
          [
           "No"
          ],
          [
           "No"
          ],
          [
           "No"
          ],
          [
           "Yes"
          ],
          [
           "No"
          ],
          [
           "Yes"
          ],
          [
           "No"
          ],
          [
           "Yes"
          ],
          [
           "No"
          ],
          [
           "No"
          ],
          [
           "Yes"
          ],
          [
           "No"
          ],
          [
           "No"
          ],
          [
           "No"
          ],
          [
           "No"
          ],
          [
           "No"
          ],
          [
           "No"
          ],
          [
           "Yes"
          ],
          [
           "No"
          ],
          [
           "No"
          ],
          [
           "No"
          ],
          [
           "No"
          ],
          [
           "No"
          ],
          [
           "No"
          ],
          [
           "Yes"
          ],
          [
           "No"
          ],
          [
           "No"
          ],
          [
           "No"
          ],
          [
           "No"
          ],
          [
           "No"
          ],
          [
           "No"
          ],
          [
           "No"
          ],
          [
           "No"
          ],
          [
           "Yes"
          ],
          [
           "No"
          ],
          [
           "No"
          ],
          [
           "No"
          ],
          [
           "Yes"
          ],
          [
           "No"
          ],
          [
           "No"
          ],
          [
           "No"
          ],
          [
           "No"
          ],
          [
           "No"
          ],
          [
           "No"
          ],
          [
           "No"
          ],
          [
           "No"
          ],
          [
           "No"
          ],
          [
           "No"
          ],
          [
           "No"
          ],
          [
           "Yes"
          ],
          [
           "No"
          ],
          [
           "No"
          ],
          [
           "No"
          ],
          [
           "No"
          ],
          [
           "No"
          ],
          [
           "No"
          ],
          [
           "Yes"
          ],
          [
           "No"
          ],
          [
           "Yes"
          ],
          [
           "No"
          ],
          [
           "Yes"
          ],
          [
           "No"
          ],
          [
           "No"
          ],
          [
           "No"
          ],
          [
           "No"
          ],
          [
           "Yes"
          ],
          [
           "No"
          ],
          [
           "No"
          ],
          [
           "Yes"
          ],
          [
           "Yes"
          ],
          [
           "Yes"
          ],
          [
           "No"
          ],
          [
           "No"
          ],
          [
           "Yes"
          ],
          [
           "Yes"
          ],
          [
           "No"
          ],
          [
           "No"
          ],
          [
           "No"
          ],
          [
           "No"
          ],
          [
           "No"
          ],
          [
           "Yes"
          ],
          [
           "No"
          ],
          [
           "No"
          ],
          [
           "Yes"
          ],
          [
           "No"
          ],
          [
           "No"
          ],
          [
           "No"
          ],
          [
           "No"
          ],
          [
           "No"
          ],
          [
           "Yes"
          ],
          [
           "No"
          ],
          [
           "Yes"
          ],
          [
           "Yes"
          ],
          [
           "No"
          ],
          [
           "No"
          ],
          [
           "No"
          ],
          [
           "No"
          ],
          [
           "Yes"
          ],
          [
           "No"
          ],
          [
           "Yes"
          ],
          [
           "Yes"
          ],
          [
           "No"
          ],
          [
           "No"
          ],
          [
           "Yes"
          ]
         ],
         "hovertemplate": "Kmeans_tags=Ignorant Sufferers<br>mental_support=%{x}<br>openness=%{y}<br>mental_exp=%{z}<br>treatment=%{customdata[0]}<extra></extra>",
         "legendgroup": "Ignorant Sufferers",
         "marker": {
          "color": "#EF553B",
          "opacity": 0.7,
          "size": 5,
          "symbol": "circle"
         },
         "mode": "markers",
         "name": "Ignorant Sufferers",
         "scene": "scene",
         "showlegend": true,
         "type": "scatter3d",
         "x": {
          "bdata": "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",
          "dtype": "f8"
         },
         "y": {
          "bdata": "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",
          "dtype": "f8"
         },
         "z": {
          "bdata": "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",
          "dtype": "f8"
         }
        },
        {
         "customdata": [
          [
           "Yes"
          ],
          [
           "Yes"
          ],
          [
           "Yes"
          ],
          [
           "Yes"
          ],
          [
           "Yes"
          ],
          [
           "No"
          ],
          [
           "Yes"
          ],
          [
           "No"
          ],
          [
           "No"
          ],
          [
           "Yes"
          ],
          [
           "Yes"
          ],
          [
           "No"
          ],
          [
           "Yes"
          ],
          [
           "No"
          ],
          [
           "Yes"
          ],
          [
           "No"
          ],
          [
           "Yes"
          ],
          [
           "Yes"
          ],
          [
           "Yes"
          ],
          [
           "No"
          ],
          [
           "Yes"
          ],
          [
           "Yes"
          ],
          [
           "No"
          ],
          [
           "No"
          ],
          [
           "No"
          ],
          [
           "Yes"
          ],
          [
           "No"
          ],
          [
           "Yes"
          ],
          [
           "Yes"
          ],
          [
           "Yes"
          ],
          [
           "No"
          ],
          [
           "No"
          ],
          [
           "Yes"
          ],
          [
           "Yes"
          ],
          [
           "Yes"
          ],
          [
           "No"
          ],
          [
           "Yes"
          ],
          [
           "No"
          ],
          [
           "Yes"
          ],
          [
           "No"
          ],
          [
           "No"
          ],
          [
           "No"
          ],
          [
           "Yes"
          ],
          [
           "Yes"
          ],
          [
           "No"
          ],
          [
           "Yes"
          ],
          [
           "No"
          ],
          [
           "Yes"
          ],
          [
           "Yes"
          ],
          [
           "Yes"
          ],
          [
           "Yes"
          ],
          [
           "No"
          ],
          [
           "No"
          ],
          [
           "Yes"
          ],
          [
           "Yes"
          ],
          [
           "Yes"
          ],
          [
           "Yes"
          ],
          [
           "Yes"
          ],
          [
           "Yes"
          ],
          [
           "Yes"
          ],
          [
           "No"
          ],
          [
           "No"
          ],
          [
           "Yes"
          ],
          [
           "Yes"
          ],
          [
           "No"
          ],
          [
           "Yes"
          ],
          [
           "No"
          ],
          [
           "Yes"
          ],
          [
           "Yes"
          ],
          [
           "Yes"
          ],
          [
           "No"
          ],
          [
           "Yes"
          ],
          [
           "No"
          ],
          [
           "Yes"
          ],
          [
           "Yes"
          ],
          [
           "Yes"
          ],
          [
           "No"
          ],
          [
           "Yes"
          ],
          [
           "No"
          ],
          [
           "Yes"
          ],
          [
           "Yes"
          ],
          [
           "No"
          ],
          [
           "Yes"
          ],
          [
           "No"
          ],
          [
           "Yes"
          ],
          [
           "Yes"
          ],
          [
           "No"
          ],
          [
           "Yes"
          ],
          [
           "Yes"
          ],
          [
           "Yes"
          ],
          [
           "No"
          ],
          [
           "No"
          ],
          [
           "Yes"
          ],
          [
           "Yes"
          ],
          [
           "Yes"
          ],
          [
           "Yes"
          ],
          [
           "No"
          ],
          [
           "Yes"
          ],
          [
           "Yes"
          ],
          [
           "Yes"
          ],
          [
           "Yes"
          ],
          [
           "Yes"
          ],
          [
           "Yes"
          ],
          [
           "No"
          ],
          [
           "Yes"
          ],
          [
           "Yes"
          ],
          [
           "Yes"
          ],
          [
           "No"
          ],
          [
           "No"
          ],
          [
           "No"
          ],
          [
           "No"
          ],
          [
           "Yes"
          ],
          [
           "Yes"
          ],
          [
           "Yes"
          ],
          [
           "Yes"
          ],
          [
           "Yes"
          ],
          [
           "Yes"
          ],
          [
           "Yes"
          ],
          [
           "Yes"
          ],
          [
           "Yes"
          ],
          [
           "Yes"
          ],
          [
           "Yes"
          ],
          [
           "Yes"
          ],
          [
           "Yes"
          ],
          [
           "Yes"
          ],
          [
           "Yes"
          ],
          [
           "Yes"
          ],
          [
           "No"
          ],
          [
           "Yes"
          ],
          [
           "Yes"
          ],
          [
           "Yes"
          ],
          [
           "Yes"
          ],
          [
           "No"
          ],
          [
           "No"
          ],
          [
           "Yes"
          ],
          [
           "No"
          ],
          [
           "Yes"
          ],
          [
           "No"
          ],
          [
           "Yes"
          ],
          [
           "Yes"
          ],
          [
           "Yes"
          ],
          [
           "Yes"
          ],
          [
           "Yes"
          ],
          [
           "Yes"
          ],
          [
           "Yes"
          ],
          [
           "No"
          ],
          [
           "No"
          ],
          [
           "No"
          ],
          [
           "No"
          ],
          [
           "Yes"
          ],
          [
           "Yes"
          ],
          [
           "Yes"
          ],
          [
           "Yes"
          ],
          [
           "No"
          ],
          [
           "No"
          ],
          [
           "No"
          ],
          [
           "Yes"
          ],
          [
           "Yes"
          ],
          [
           "Yes"
          ],
          [
           "No"
          ],
          [
           "Yes"
          ],
          [
           "Yes"
          ],
          [
           "Yes"
          ],
          [
           "Yes"
          ],
          [
           "Yes"
          ],
          [
           "No"
          ],
          [
           "Yes"
          ],
          [
           "No"
          ],
          [
           "Yes"
          ],
          [
           "Yes"
          ],
          [
           "Yes"
          ],
          [
           "Yes"
          ],
          [
           "No"
          ],
          [
           "Yes"
          ],
          [
           "No"
          ],
          [
           "No"
          ],
          [
           "Yes"
          ],
          [
           "No"
          ],
          [
           "No"
          ],
          [
           "Yes"
          ],
          [
           "No"
          ],
          [
           "No"
          ],
          [
           "Yes"
          ],
          [
           "Yes"
          ],
          [
           "Yes"
          ],
          [
           "Yes"
          ],
          [
           "Yes"
          ],
          [
           "Yes"
          ],
          [
           "Yes"
          ],
          [
           "Yes"
          ],
          [
           "No"
          ],
          [
           "Yes"
          ],
          [
           "Yes"
          ],
          [
           "Yes"
          ],
          [
           "No"
          ],
          [
           "Yes"
          ],
          [
           "Yes"
          ],
          [
           "No"
          ],
          [
           "Yes"
          ],
          [
           "Yes"
          ],
          [
           "Yes"
          ],
          [
           "Yes"
          ],
          [
           "Yes"
          ],
          [
           "Yes"
          ],
          [
           "Yes"
          ],
          [
           "No"
          ],
          [
           "Yes"
          ],
          [
           "No"
          ],
          [
           "No"
          ],
          [
           "No"
          ],
          [
           "No"
          ],
          [
           "No"
          ],
          [
           "Yes"
          ],
          [
           "Yes"
          ],
          [
           "Yes"
          ],
          [
           "No"
          ],
          [
           "Yes"
          ],
          [
           "Yes"
          ],
          [
           "Yes"
          ],
          [
           "Yes"
          ],
          [
           "Yes"
          ],
          [
           "No"
          ],
          [
           "No"
          ],
          [
           "Yes"
          ],
          [
           "No"
          ],
          [
           "Yes"
          ],
          [
           "No"
          ],
          [
           "Yes"
          ],
          [
           "No"
          ],
          [
           "No"
          ],
          [
           "No"
          ],
          [
           "No"
          ],
          [
           "No"
          ],
          [
           "Yes"
          ],
          [
           "Yes"
          ],
          [
           "No"
          ],
          [
           "Yes"
          ],
          [
           "No"
          ],
          [
           "Yes"
          ],
          [
           "No"
          ],
          [
           "No"
          ],
          [
           "Yes"
          ],
          [
           "No"
          ],
          [
           "No"
          ],
          [
           "Yes"
          ],
          [
           "Yes"
          ],
          [
           "Yes"
          ],
          [
           "Yes"
          ],
          [
           "Yes"
          ],
          [
           "No"
          ],
          [
           "Yes"
          ],
          [
           "Yes"
          ],
          [
           "Yes"
          ],
          [
           "No"
          ],
          [
           "Yes"
          ],
          [
           "Yes"
          ],
          [
           "Yes"
          ],
          [
           "No"
          ],
          [
           "Yes"
          ],
          [
           "Yes"
          ],
          [
           "Yes"
          ],
          [
           "Yes"
          ],
          [
           "No"
          ],
          [
           "Yes"
          ],
          [
           "No"
          ],
          [
           "Yes"
          ],
          [
           "No"
          ],
          [
           "Yes"
          ],
          [
           "No"
          ],
          [
           "No"
          ],
          [
           "No"
          ],
          [
           "Yes"
          ],
          [
           "Yes"
          ],
          [
           "No"
          ],
          [
           "No"
          ],
          [
           "Yes"
          ],
          [
           "Yes"
          ],
          [
           "No"
          ],
          [
           "No"
          ],
          [
           "No"
          ],
          [
           "Yes"
          ],
          [
           "No"
          ],
          [
           "Yes"
          ],
          [
           "Yes"
          ],
          [
           "Yes"
          ],
          [
           "Yes"
          ],
          [
           "Yes"
          ],
          [
           "Yes"
          ],
          [
           "No"
          ],
          [
           "Yes"
          ],
          [
           "Yes"
          ],
          [
           "Yes"
          ],
          [
           "No"
          ],
          [
           "Yes"
          ],
          [
           "No"
          ],
          [
           "Yes"
          ],
          [
           "Yes"
          ],
          [
           "Yes"
          ],
          [
           "Yes"
          ],
          [
           "Yes"
          ],
          [
           "Yes"
          ],
          [
           "Yes"
          ],
          [
           "No"
          ],
          [
           "Yes"
          ],
          [
           "Yes"
          ],
          [
           "Yes"
          ],
          [
           "Yes"
          ],
          [
           "Yes"
          ],
          [
           "Yes"
          ],
          [
           "Yes"
          ],
          [
           "Yes"
          ],
          [
           "Yes"
          ],
          [
           "Yes"
          ],
          [
           "No"
          ],
          [
           "Yes"
          ],
          [
           "Yes"
          ],
          [
           "No"
          ],
          [
           "Yes"
          ],
          [
           "No"
          ],
          [
           "Yes"
          ],
          [
           "Yes"
          ],
          [
           "Yes"
          ],
          [
           "Yes"
          ],
          [
           "No"
          ],
          [
           "No"
          ],
          [
           "No"
          ],
          [
           "No"
          ],
          [
           "Yes"
          ],
          [
           "No"
          ],
          [
           "No"
          ],
          [
           "Yes"
          ],
          [
           "Yes"
          ],
          [
           "No"
          ],
          [
           "No"
          ],
          [
           "Yes"
          ],
          [
           "No"
          ],
          [
           "No"
          ],
          [
           "No"
          ],
          [
           "Yes"
          ],
          [
           "No"
          ],
          [
           "Yes"
          ],
          [
           "No"
          ],
          [
           "No"
          ],
          [
           "Yes"
          ],
          [
           "Yes"
          ],
          [
           "Yes"
          ],
          [
           "Yes"
          ],
          [
           "Yes"
          ],
          [
           "No"
          ],
          [
           "Yes"
          ],
          [
           "Yes"
          ],
          [
           "Yes"
          ],
          [
           "Yes"
          ],
          [
           "Yes"
          ],
          [
           "No"
          ],
          [
           "Yes"
          ],
          [
           "No"
          ],
          [
           "Yes"
          ],
          [
           "Yes"
          ],
          [
           "Yes"
          ],
          [
           "Yes"
          ],
          [
           "Yes"
          ],
          [
           "Yes"
          ],
          [
           "No"
          ],
          [
           "Yes"
          ],
          [
           "No"
          ],
          [
           "Yes"
          ],
          [
           "Yes"
          ],
          [
           "Yes"
          ],
          [
           "No"
          ],
          [
           "Yes"
          ],
          [
           "No"
          ],
          [
           "No"
          ],
          [
           "Yes"
          ],
          [
           "No"
          ],
          [
           "Yes"
          ],
          [
           "No"
          ],
          [
           "No"
          ],
          [
           "Yes"
          ],
          [
           "No"
          ],
          [
           "No"
          ],
          [
           "No"
          ],
          [
           "No"
          ],
          [
           "Yes"
          ],
          [
           "Yes"
          ],
          [
           "No"
          ],
          [
           "Yes"
          ],
          [
           "No"
          ],
          [
           "Yes"
          ],
          [
           "No"
          ],
          [
           "Yes"
          ],
          [
           "No"
          ],
          [
           "Yes"
          ],
          [
           "Yes"
          ],
          [
           "Yes"
          ],
          [
           "Yes"
          ],
          [
           "No"
          ],
          [
           "Yes"
          ],
          [
           "Yes"
          ],
          [
           "No"
          ],
          [
           "No"
          ],
          [
           "Yes"
          ],
          [
           "Yes"
          ],
          [
           "Yes"
          ],
          [
           "Yes"
          ],
          [
           "Yes"
          ],
          [
           "Yes"
          ],
          [
           "No"
          ],
          [
           "No"
          ],
          [
           "Yes"
          ],
          [
           "Yes"
          ],
          [
           "Yes"
          ],
          [
           "No"
          ],
          [
           "Yes"
          ],
          [
           "Yes"
          ],
          [
           "No"
          ],
          [
           "Yes"
          ],
          [
           "Yes"
          ],
          [
           "Yes"
          ],
          [
           "Yes"
          ],
          [
           "Yes"
          ],
          [
           "Yes"
          ],
          [
           "Yes"
          ],
          [
           "No"
          ]
         ],
         "hovertemplate": "Kmeans_tags=Silent Sufferes<br>mental_support=%{x}<br>openness=%{y}<br>mental_exp=%{z}<br>treatment=%{customdata[0]}<extra></extra>",
         "legendgroup": "Silent Sufferes",
         "marker": {
          "color": "#00CC96",
          "opacity": 0.7,
          "size": 5,
          "symbol": "circle"
         },
         "mode": "markers",
         "name": "Silent Sufferes",
         "scene": "scene",
         "showlegend": true,
         "type": "scatter3d",
         "x": {
          "bdata": "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",
          "dtype": "f8"
         },
         "y": {
          "bdata": "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",
          "dtype": "f8"
         },
         "z": {
          "bdata": "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",
          "dtype": "f8"
         }
        }
       ],
       "layout": {
        "legend": {
         "title": {
          "text": "Kmeans_tags"
         },
         "tracegroupgap": 0
        },
        "scene": {
         "domain": {
          "x": [
           0,
           1
          ],
          "y": [
           0,
           1
          ]
         },
         "xaxis": {
          "title": {
           "text": "mental_support"
          }
         },
         "yaxis": {
          "title": {
           "text": "openness"
          }
         },
         "zaxis": {
          "title": {
           "text": "mental_exp"
          }
         }
        },
        "template": {
         "data": {
          "bar": [
           {
            "error_x": {
             "color": "#2a3f5f"
            },
            "error_y": {
             "color": "#2a3f5f"
            },
            "marker": {
             "line": {
              "color": "#E5ECF6",
              "width": 0.5
             },
             "pattern": {
              "fillmode": "overlay",
              "size": 10,
              "solidity": 0.2
             }
            },
            "type": "bar"
           }
          ],
          "barpolar": [
           {
            "marker": {
             "line": {
              "color": "#E5ECF6",
              "width": 0.5
             },
             "pattern": {
              "fillmode": "overlay",
              "size": 10,
              "solidity": 0.2
             }
            },
            "type": "barpolar"
           }
          ],
          "carpet": [
           {
            "aaxis": {
             "endlinecolor": "#2a3f5f",
             "gridcolor": "white",
             "linecolor": "white",
             "minorgridcolor": "white",
             "startlinecolor": "#2a3f5f"
            },
            "baxis": {
             "endlinecolor": "#2a3f5f",
             "gridcolor": "white",
             "linecolor": "white",
             "minorgridcolor": "white",
             "startlinecolor": "#2a3f5f"
            },
            "type": "carpet"
           }
          ],
          "choropleth": [
           {
            "colorbar": {
             "outlinewidth": 0,
             "ticks": ""
            },
            "type": "choropleth"
           }
          ],
          "contour": [
           {
            "colorbar": {
             "outlinewidth": 0,
             "ticks": ""
            },
            "colorscale": [
             [
              0,
              "#0d0887"
             ],
             [
              0.1111111111111111,
              "#46039f"
             ],
             [
              0.2222222222222222,
              "#7201a8"
             ],
             [
              0.3333333333333333,
              "#9c179e"
             ],
             [
              0.4444444444444444,
              "#bd3786"
             ],
             [
              0.5555555555555556,
              "#d8576b"
             ],
             [
              0.6666666666666666,
              "#ed7953"
             ],
             [
              0.7777777777777778,
              "#fb9f3a"
             ],
             [
              0.8888888888888888,
              "#fdca26"
             ],
             [
              1,
              "#f0f921"
             ]
            ],
            "type": "contour"
           }
          ],
          "contourcarpet": [
           {
            "colorbar": {
             "outlinewidth": 0,
             "ticks": ""
            },
            "type": "contourcarpet"
           }
          ],
          "heatmap": [
           {
            "colorbar": {
             "outlinewidth": 0,
             "ticks": ""
            },
            "colorscale": [
             [
              0,
              "#0d0887"
             ],
             [
              0.1111111111111111,
              "#46039f"
             ],
             [
              0.2222222222222222,
              "#7201a8"
             ],
             [
              0.3333333333333333,
              "#9c179e"
             ],
             [
              0.4444444444444444,
              "#bd3786"
             ],
             [
              0.5555555555555556,
              "#d8576b"
             ],
             [
              0.6666666666666666,
              "#ed7953"
             ],
             [
              0.7777777777777778,
              "#fb9f3a"
             ],
             [
              0.8888888888888888,
              "#fdca26"
             ],
             [
              1,
              "#f0f921"
             ]
            ],
            "type": "heatmap"
           }
          ],
          "histogram": [
           {
            "marker": {
             "pattern": {
              "fillmode": "overlay",
              "size": 10,
              "solidity": 0.2
             }
            },
            "type": "histogram"
           }
          ],
          "histogram2d": [
           {
            "colorbar": {
             "outlinewidth": 0,
             "ticks": ""
            },
            "colorscale": [
             [
              0,
              "#0d0887"
             ],
             [
              0.1111111111111111,
              "#46039f"
             ],
             [
              0.2222222222222222,
              "#7201a8"
             ],
             [
              0.3333333333333333,
              "#9c179e"
             ],
             [
              0.4444444444444444,
              "#bd3786"
             ],
             [
              0.5555555555555556,
              "#d8576b"
             ],
             [
              0.6666666666666666,
              "#ed7953"
             ],
             [
              0.7777777777777778,
              "#fb9f3a"
             ],
             [
              0.8888888888888888,
              "#fdca26"
             ],
             [
              1,
              "#f0f921"
             ]
            ],
            "type": "histogram2d"
           }
          ],
          "histogram2dcontour": [
           {
            "colorbar": {
             "outlinewidth": 0,
             "ticks": ""
            },
            "colorscale": [
             [
              0,
              "#0d0887"
             ],
             [
              0.1111111111111111,
              "#46039f"
             ],
             [
              0.2222222222222222,
              "#7201a8"
             ],
             [
              0.3333333333333333,
              "#9c179e"
             ],
             [
              0.4444444444444444,
              "#bd3786"
             ],
             [
              0.5555555555555556,
              "#d8576b"
             ],
             [
              0.6666666666666666,
              "#ed7953"
             ],
             [
              0.7777777777777778,
              "#fb9f3a"
             ],
             [
              0.8888888888888888,
              "#fdca26"
             ],
             [
              1,
              "#f0f921"
             ]
            ],
            "type": "histogram2dcontour"
           }
          ],
          "mesh3d": [
           {
            "colorbar": {
             "outlinewidth": 0,
             "ticks": ""
            },
            "type": "mesh3d"
           }
          ],
          "parcoords": [
           {
            "line": {
             "colorbar": {
              "outlinewidth": 0,
              "ticks": ""
             }
            },
            "type": "parcoords"
           }
          ],
          "pie": [
           {
            "automargin": true,
            "type": "pie"
           }
          ],
          "scatter": [
           {
            "fillpattern": {
             "fillmode": "overlay",
             "size": 10,
             "solidity": 0.2
            },
            "type": "scatter"
           }
          ],
          "scatter3d": [
           {
            "line": {
             "colorbar": {
              "outlinewidth": 0,
              "ticks": ""
             }
            },
            "marker": {
             "colorbar": {
              "outlinewidth": 0,
              "ticks": ""
             }
            },
            "type": "scatter3d"
           }
          ],
          "scattercarpet": [
           {
            "marker": {
             "colorbar": {
              "outlinewidth": 0,
              "ticks": ""
             }
            },
            "type": "scattercarpet"
           }
          ],
          "scattergeo": [
           {
            "marker": {
             "colorbar": {
              "outlinewidth": 0,
              "ticks": ""
             }
            },
            "type": "scattergeo"
           }
          ],
          "scattergl": [
           {
            "marker": {
             "colorbar": {
              "outlinewidth": 0,
              "ticks": ""
             }
            },
            "type": "scattergl"
           }
          ],
          "scattermap": [
           {
            "marker": {
             "colorbar": {
              "outlinewidth": 0,
              "ticks": ""
             }
            },
            "type": "scattermap"
           }
          ],
          "scattermapbox": [
           {
            "marker": {
             "colorbar": {
              "outlinewidth": 0,
              "ticks": ""
             }
            },
            "type": "scattermapbox"
           }
          ],
          "scatterpolar": [
           {
            "marker": {
             "colorbar": {
              "outlinewidth": 0,
              "ticks": ""
             }
            },
            "type": "scatterpolar"
           }
          ],
          "scatterpolargl": [
           {
            "marker": {
             "colorbar": {
              "outlinewidth": 0,
              "ticks": ""
             }
            },
            "type": "scatterpolargl"
           }
          ],
          "scatterternary": [
           {
            "marker": {
             "colorbar": {
              "outlinewidth": 0,
              "ticks": ""
             }
            },
            "type": "scatterternary"
           }
          ],
          "surface": [
           {
            "colorbar": {
             "outlinewidth": 0,
             "ticks": ""
            },
            "colorscale": [
             [
              0,
              "#0d0887"
             ],
             [
              0.1111111111111111,
              "#46039f"
             ],
             [
              0.2222222222222222,
              "#7201a8"
             ],
             [
              0.3333333333333333,
              "#9c179e"
             ],
             [
              0.4444444444444444,
              "#bd3786"
             ],
             [
              0.5555555555555556,
              "#d8576b"
             ],
             [
              0.6666666666666666,
              "#ed7953"
             ],
             [
              0.7777777777777778,
              "#fb9f3a"
             ],
             [
              0.8888888888888888,
              "#fdca26"
             ],
             [
              1,
              "#f0f921"
             ]
            ],
            "type": "surface"
           }
          ],
          "table": [
           {
            "cells": {
             "fill": {
              "color": "#EBF0F8"
             },
             "line": {
              "color": "white"
             }
            },
            "header": {
             "fill": {
              "color": "#C8D4E3"
             },
             "line": {
              "color": "white"
             }
            },
            "type": "table"
           }
          ]
         },
         "layout": {
          "annotationdefaults": {
           "arrowcolor": "#2a3f5f",
           "arrowhead": 0,
           "arrowwidth": 1
          },
          "autotypenumbers": "strict",
          "coloraxis": {
           "colorbar": {
            "outlinewidth": 0,
            "ticks": ""
           }
          },
          "colorscale": {
           "diverging": [
            [
             0,
             "#8e0152"
            ],
            [
             0.1,
             "#c51b7d"
            ],
            [
             0.2,
             "#de77ae"
            ],
            [
             0.3,
             "#f1b6da"
            ],
            [
             0.4,
             "#fde0ef"
            ],
            [
             0.5,
             "#f7f7f7"
            ],
            [
             0.6,
             "#e6f5d0"
            ],
            [
             0.7,
             "#b8e186"
            ],
            [
             0.8,
             "#7fbc41"
            ],
            [
             0.9,
             "#4d9221"
            ],
            [
             1,
             "#276419"
            ]
           ],
           "sequential": [
            [
             0,
             "#0d0887"
            ],
            [
             0.1111111111111111,
             "#46039f"
            ],
            [
             0.2222222222222222,
             "#7201a8"
            ],
            [
             0.3333333333333333,
             "#9c179e"
            ],
            [
             0.4444444444444444,
             "#bd3786"
            ],
            [
             0.5555555555555556,
             "#d8576b"
            ],
            [
             0.6666666666666666,
             "#ed7953"
            ],
            [
             0.7777777777777778,
             "#fb9f3a"
            ],
            [
             0.8888888888888888,
             "#fdca26"
            ],
            [
             1,
             "#f0f921"
            ]
           ],
           "sequentialminus": [
            [
             0,
             "#0d0887"
            ],
            [
             0.1111111111111111,
             "#46039f"
            ],
            [
             0.2222222222222222,
             "#7201a8"
            ],
            [
             0.3333333333333333,
             "#9c179e"
            ],
            [
             0.4444444444444444,
             "#bd3786"
            ],
            [
             0.5555555555555556,
             "#d8576b"
            ],
            [
             0.6666666666666666,
             "#ed7953"
            ],
            [
             0.7777777777777778,
             "#fb9f3a"
            ],
            [
             0.8888888888888888,
             "#fdca26"
            ],
            [
             1,
             "#f0f921"
            ]
           ]
          },
          "colorway": [
           "#636efa",
           "#EF553B",
           "#00cc96",
           "#ab63fa",
           "#FFA15A",
           "#19d3f3",
           "#FF6692",
           "#B6E880",
           "#FF97FF",
           "#FECB52"
          ],
          "font": {
           "color": "#2a3f5f"
          },
          "geo": {
           "bgcolor": "white",
           "lakecolor": "white",
           "landcolor": "#E5ECF6",
           "showlakes": true,
           "showland": true,
           "subunitcolor": "white"
          },
          "hoverlabel": {
           "align": "left"
          },
          "hovermode": "closest",
          "mapbox": {
           "style": "light"
          },
          "paper_bgcolor": "white",
          "plot_bgcolor": "#E5ECF6",
          "polar": {
           "angularaxis": {
            "gridcolor": "white",
            "linecolor": "white",
            "ticks": ""
           },
           "bgcolor": "#E5ECF6",
           "radialaxis": {
            "gridcolor": "white",
            "linecolor": "white",
            "ticks": ""
           }
          },
          "scene": {
           "xaxis": {
            "backgroundcolor": "#E5ECF6",
            "gridcolor": "white",
            "gridwidth": 2,
            "linecolor": "white",
            "showbackground": true,
            "ticks": "",
            "zerolinecolor": "white"
           },
           "yaxis": {
            "backgroundcolor": "#E5ECF6",
            "gridcolor": "white",
            "gridwidth": 2,
            "linecolor": "white",
            "showbackground": true,
            "ticks": "",
            "zerolinecolor": "white"
           },
           "zaxis": {
            "backgroundcolor": "#E5ECF6",
            "gridcolor": "white",
            "gridwidth": 2,
            "linecolor": "white",
            "showbackground": true,
            "ticks": "",
            "zerolinecolor": "white"
           }
          },
          "shapedefaults": {
           "line": {
            "color": "#2a3f5f"
           }
          },
          "ternary": {
           "aaxis": {
            "gridcolor": "white",
            "linecolor": "white",
            "ticks": ""
           },
           "baxis": {
            "gridcolor": "white",
            "linecolor": "white",
            "ticks": ""
           },
           "bgcolor": "#E5ECF6",
           "caxis": {
            "gridcolor": "white",
            "linecolor": "white",
            "ticks": ""
           }
          },
          "title": {
           "x": 0.05
          },
          "xaxis": {
           "automargin": true,
           "gridcolor": "white",
           "linecolor": "white",
           "ticks": "",
           "title": {
            "standoff": 15
           },
           "zerolinecolor": "white",
           "zerolinewidth": 2
          },
          "yaxis": {
           "automargin": true,
           "gridcolor": "white",
           "linecolor": "white",
           "ticks": "",
           "title": {
            "standoff": 15
           },
           "zerolinecolor": "white",
           "zerolinewidth": 2
          }
         }
        },
        "title": {
         "text": "3D KMeans Cluster Visualization"
        }
       }
      }
     },
     "metadata": {},
     "output_type": "display_data"
    }
   ],
   "source": [
    "# Mapping the given tags to Clusters\n",
    "\n",
    "X_kmeans['Kmeans_tags']=X_kmeans['3 Cluster'].map({\n",
    "                                                  0:'Silent Sufferes',\n",
    "                                                  1:'Well-Supported and Aware',\n",
    "                                                  2:'Ignorant Sufferers',\n",
    "                                                  })\n",
    "\n",
    "# 3D Visualization for better understand\n",
    "fig_kmeans= px.scatter_3d(\n",
    "    X_kmeans,\n",
    "    x='mental_support',\n",
    "    y='openness',\n",
    "    z='mental_exp',\n",
    "    color='Kmeans_tags',\n",
    "    hover_data='treatment',\n",
    "    color_discrete_sequence=['#636EFA', '#EF553B', '#00CC96'],\n",
    "    title=\"3D KMeans Cluster Visualization\",\n",
    "    opacity=0.7,\n",
    ")\n",
    "fig_kmeans.update_traces(marker=dict(size=5))\n",
    "fig_kmeans.show()"
   ]
  },
  {
   "cell_type": "markdown",
   "id": "b5db77eb",
   "metadata": {},
   "source": [
    "# Saving the Final Model on hard disk"
   ]
  },
  {
   "cell_type": "code",
   "execution_count": 33,
   "id": "5135265a",
   "metadata": {},
   "outputs": [
    {
     "data": {
      "text/plain": [
       "['Tech_only_cluster.pkl']"
      ]
     },
     "execution_count": 33,
     "metadata": {},
     "output_type": "execute_result"
    }
   ],
   "source": [
    "# Creating a pipeline \n",
    "\n",
    "from sklearn.pipeline import Pipeline\n",
    "\n",
    "pipeline= Pipeline([('scaler',scaler),\n",
    "                    ('Kmeans',Kmeans_clustering)])\n",
    "\n",
    "tech_pipeline=Pipeline([('scaler',scaler_tech),\n",
    "                        ('Kmeans',Kmeans_3_clustering)\n",
    "])\n",
    "\n",
    "# Saving the pipeline as .pkl file\n",
    "import joblib\n",
    "\n",
    "joblib.dump(pipeline,\"KMeans_clustering.pkl\")\n",
    "joblib.dump(tech_pipeline,\"Tech_only_cluster.pkl\")"
   ]
  }
 ],
 "metadata": {
  "kernelspec": {
   "display_name": "Python 3",
   "language": "python",
   "name": "python3"
  },
  "language_info": {
   "codemirror_mode": {
    "name": "ipython",
    "version": 3
   },
   "file_extension": ".py",
   "mimetype": "text/x-python",
   "name": "python",
   "nbconvert_exporter": "python",
   "pygments_lexer": "ipython3",
   "version": "3.12.0"
  }
 },
 "nbformat": 4,
 "nbformat_minor": 5
}
